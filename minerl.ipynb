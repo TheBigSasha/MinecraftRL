{
 "cells": [
  {
   "cell_type": "code",
   "execution_count": 16,
   "metadata": {
    "collapsed": true
   },
   "outputs": [
    {
     "name": "stdout",
     "output_type": "stream",
     "text": [
      "Requirement already satisfied: minerl in /home/sasha/.local/lib/python3.9/site-packages (0.4.4)\r\n",
      "Requirement already satisfied: opencv-python>=4.1.0.25 in /home/sasha/.local/lib/python3.9/site-packages (from minerl) (4.7.0.72)\r\n",
      "Requirement already satisfied: inflection>=0.3.1 in /home/sasha/.local/lib/python3.9/site-packages (from minerl) (0.5.1)\r\n",
      "Requirement already satisfied: matplotlib>=3.2.2 in /home/sasha/.local/lib/python3.9/site-packages (from minerl) (3.7.1)\r\n",
      "Requirement already satisfied: numpy>=1.16.2 in /home/sasha/miniconda3/envs/minerl/lib/python3.9/site-packages (from minerl) (1.24.1)\r\n",
      "Requirement already satisfied: simple-term-menu in /home/sasha/.local/lib/python3.9/site-packages (from minerl) (1.6.1)\r\n",
      "Requirement already satisfied: Pyro4>=4.76 in /home/sasha/.local/lib/python3.9/site-packages (from minerl) (4.82)\r\n",
      "Requirement already satisfied: pytest in /home/sasha/.local/lib/python3.9/site-packages (from minerl) (7.2.2)\r\n",
      "Requirement already satisfied: gym<0.20,>=0.13.1 in /home/sasha/.local/lib/python3.9/site-packages (from minerl) (0.19.0)\r\n",
      "Requirement already satisfied: setuptools>=49.2.0 in /home/sasha/miniconda3/envs/minerl/lib/python3.9/site-packages (from minerl) (65.6.3)\r\n",
      "Requirement already satisfied: ipython>=7.5.0 in /home/sasha/miniconda3/envs/minerl/lib/python3.9/site-packages (from minerl) (8.11.0)\r\n",
      "Requirement already satisfied: pillow>=8.0.0 in /home/sasha/miniconda3/envs/minerl/lib/python3.9/site-packages (from minerl) (9.3.0)\r\n",
      "Requirement already satisfied: coloredlogs>=10.0 in /home/sasha/.local/lib/python3.9/site-packages (from minerl) (15.0.1)\r\n",
      "Requirement already satisfied: jinja2>=2.11.2 in /home/sasha/miniconda3/envs/minerl/lib/python3.9/site-packages (from minerl) (3.1.2)\r\n",
      "Requirement already satisfied: dill>=0.3.1.1 in /home/sasha/.local/lib/python3.9/site-packages (from minerl) (0.3.6)\r\n",
      "Requirement already satisfied: lxml>=4.3.3 in /home/sasha/.local/lib/python3.9/site-packages (from minerl) (4.9.2)\r\n",
      "Requirement already satisfied: daemoniker>=0.2.3 in /home/sasha/.local/lib/python3.9/site-packages (from minerl) (0.2.3)\r\n",
      "Requirement already satisfied: tqdm>=4.32.2 in /home/sasha/.local/lib/python3.9/site-packages (from minerl) (4.65.0)\r\n",
      "Requirement already satisfied: psutil>=5.6.2 in /home/sasha/miniconda3/envs/minerl/lib/python3.9/site-packages (from minerl) (5.9.4)\r\n",
      "Requirement already satisfied: requests>=2.20.0 in /home/sasha/miniconda3/envs/minerl/lib/python3.9/site-packages (from minerl) (2.28.1)\r\n",
      "Requirement already satisfied: bullet in /home/sasha/.local/lib/python3.9/site-packages (from minerl) (2.2.0)\r\n",
      "Requirement already satisfied: getch>=1.0 in /home/sasha/.local/lib/python3.9/site-packages (from minerl) (1.0)\r\n",
      "Requirement already satisfied: xmltodict==0.12.0 in /home/sasha/.local/lib/python3.9/site-packages (from minerl) (0.12.0)\r\n",
      "Requirement already satisfied: filelock in /home/sasha/miniconda3/envs/minerl/lib/python3.9/site-packages (from minerl) (3.9.0)\r\n",
      "Requirement already satisfied: humanfriendly>=9.1 in /home/sasha/.local/lib/python3.9/site-packages (from coloredlogs>=10.0->minerl) (10.0)\r\n",
      "Requirement already satisfied: cloudpickle<1.7.0,>=1.2.0 in /home/sasha/.local/lib/python3.9/site-packages (from gym<0.20,>=0.13.1->minerl) (1.6.0)\r\n",
      "Requirement already satisfied: matplotlib-inline in /home/sasha/miniconda3/envs/minerl/lib/python3.9/site-packages (from ipython>=7.5.0->minerl) (0.1.6)\r\n",
      "Requirement already satisfied: traitlets>=5 in /home/sasha/miniconda3/envs/minerl/lib/python3.9/site-packages (from ipython>=7.5.0->minerl) (5.9.0)\r\n",
      "Requirement already satisfied: decorator in /home/sasha/miniconda3/envs/minerl/lib/python3.9/site-packages (from ipython>=7.5.0->minerl) (5.1.1)\r\n",
      "Requirement already satisfied: pygments>=2.4.0 in /home/sasha/miniconda3/envs/minerl/lib/python3.9/site-packages (from ipython>=7.5.0->minerl) (2.14.0)\r\n",
      "Requirement already satisfied: jedi>=0.16 in /home/sasha/miniconda3/envs/minerl/lib/python3.9/site-packages (from ipython>=7.5.0->minerl) (0.18.2)\r\n",
      "Requirement already satisfied: backcall in /home/sasha/miniconda3/envs/minerl/lib/python3.9/site-packages (from ipython>=7.5.0->minerl) (0.2.0)\r\n",
      "Requirement already satisfied: pexpect>4.3 in /home/sasha/miniconda3/envs/minerl/lib/python3.9/site-packages (from ipython>=7.5.0->minerl) (4.8.0)\r\n",
      "Requirement already satisfied: prompt-toolkit!=3.0.37,<3.1.0,>=3.0.30 in /home/sasha/miniconda3/envs/minerl/lib/python3.9/site-packages (from ipython>=7.5.0->minerl) (3.0.38)\r\n",
      "Requirement already satisfied: stack-data in /home/sasha/miniconda3/envs/minerl/lib/python3.9/site-packages (from ipython>=7.5.0->minerl) (0.6.2)\r\n",
      "Requirement already satisfied: pickleshare in /home/sasha/miniconda3/envs/minerl/lib/python3.9/site-packages (from ipython>=7.5.0->minerl) (0.7.5)\r\n",
      "Requirement already satisfied: MarkupSafe>=2.0 in /home/sasha/miniconda3/envs/minerl/lib/python3.9/site-packages (from jinja2>=2.11.2->minerl) (2.1.2)\r\n",
      "Requirement already satisfied: contourpy>=1.0.1 in /home/sasha/.local/lib/python3.9/site-packages (from matplotlib>=3.2.2->minerl) (1.0.7)\r\n",
      "Requirement already satisfied: cycler>=0.10 in /home/sasha/.local/lib/python3.9/site-packages (from matplotlib>=3.2.2->minerl) (0.11.0)\r\n",
      "Requirement already satisfied: fonttools>=4.22.0 in /home/sasha/.local/lib/python3.9/site-packages (from matplotlib>=3.2.2->minerl) (4.39.2)\r\n",
      "Requirement already satisfied: importlib-resources>=3.2.0 in /home/sasha/.local/lib/python3.9/site-packages (from matplotlib>=3.2.2->minerl) (5.12.0)\r\n",
      "Requirement already satisfied: packaging>=20.0 in /home/sasha/miniconda3/envs/minerl/lib/python3.9/site-packages (from matplotlib>=3.2.2->minerl) (23.0)\r\n",
      "Requirement already satisfied: pyparsing>=2.3.1 in /home/sasha/.local/lib/python3.9/site-packages (from matplotlib>=3.2.2->minerl) (3.0.9)\r\n",
      "Requirement already satisfied: kiwisolver>=1.0.1 in /home/sasha/.local/lib/python3.9/site-packages (from matplotlib>=3.2.2->minerl) (1.4.4)\r\n",
      "Requirement already satisfied: python-dateutil>=2.7 in /home/sasha/miniconda3/envs/minerl/lib/python3.9/site-packages (from matplotlib>=3.2.2->minerl) (2.8.2)\r\n",
      "Requirement already satisfied: serpent>=1.27 in /home/sasha/.local/lib/python3.9/site-packages (from Pyro4>=4.76->minerl) (1.41)\r\n",
      "Requirement already satisfied: urllib3<1.27,>=1.21.1 in /home/sasha/miniconda3/envs/minerl/lib/python3.9/site-packages (from requests>=2.20.0->minerl) (1.26.13)\r\n",
      "Requirement already satisfied: idna<4,>=2.5 in /home/sasha/miniconda3/envs/minerl/lib/python3.9/site-packages (from requests>=2.20.0->minerl) (3.4)\r\n",
      "Requirement already satisfied: certifi>=2017.4.17 in /home/sasha/miniconda3/envs/minerl/lib/python3.9/site-packages (from requests>=2.20.0->minerl) (2022.12.7)\r\n",
      "Requirement already satisfied: charset-normalizer<3,>=2 in /home/sasha/miniconda3/envs/minerl/lib/python3.9/site-packages (from requests>=2.20.0->minerl) (2.1.1)\r\n",
      "Requirement already satisfied: tomli>=1.0.0 in /home/sasha/.local/lib/python3.9/site-packages (from pytest->minerl) (2.0.1)\r\n",
      "Requirement already satisfied: pluggy<2.0,>=0.12 in /home/sasha/.local/lib/python3.9/site-packages (from pytest->minerl) (1.0.0)\r\n",
      "Requirement already satisfied: attrs>=19.2.0 in /home/sasha/miniconda3/envs/minerl/lib/python3.9/site-packages (from pytest->minerl) (22.2.0)\r\n",
      "Requirement already satisfied: exceptiongroup>=1.0.0rc8 in /home/sasha/.local/lib/python3.9/site-packages (from pytest->minerl) (1.1.1)\r\n",
      "Requirement already satisfied: iniconfig in /home/sasha/.local/lib/python3.9/site-packages (from pytest->minerl) (2.0.0)\r\n",
      "Requirement already satisfied: zipp>=3.1.0 in /home/sasha/miniconda3/envs/minerl/lib/python3.9/site-packages (from importlib-resources>=3.2.0->matplotlib>=3.2.2->minerl) (3.15.0)\r\n",
      "Requirement already satisfied: parso<0.9.0,>=0.8.0 in /home/sasha/miniconda3/envs/minerl/lib/python3.9/site-packages (from jedi>=0.16->ipython>=7.5.0->minerl) (0.8.3)\r\n",
      "Requirement already satisfied: ptyprocess>=0.5 in /home/sasha/miniconda3/envs/minerl/lib/python3.9/site-packages (from pexpect>4.3->ipython>=7.5.0->minerl) (0.7.0)\r\n",
      "Requirement already satisfied: wcwidth in /home/sasha/miniconda3/envs/minerl/lib/python3.9/site-packages (from prompt-toolkit!=3.0.37,<3.1.0,>=3.0.30->ipython>=7.5.0->minerl) (0.2.6)\r\n",
      "Requirement already satisfied: six>=1.5 in /home/sasha/miniconda3/envs/minerl/lib/python3.9/site-packages (from python-dateutil>=2.7->matplotlib>=3.2.2->minerl) (1.16.0)\r\n",
      "Requirement already satisfied: asttokens>=2.1.0 in /home/sasha/miniconda3/envs/minerl/lib/python3.9/site-packages (from stack-data->ipython>=7.5.0->minerl) (2.2.1)\r\n",
      "Requirement already satisfied: executing>=1.2.0 in /home/sasha/miniconda3/envs/minerl/lib/python3.9/site-packages (from stack-data->ipython>=7.5.0->minerl) (1.2.0)\r\n",
      "Requirement already satisfied: pure-eval in /home/sasha/miniconda3/envs/minerl/lib/python3.9/site-packages (from stack-data->ipython>=7.5.0->minerl) (0.2.2)\r\n",
      "Note: you may need to restart the kernel to use updated packages.\n"
     ]
    }
   ],
   "source": [
    "%pip install --upgrade minerl --user"
   ]
  },
  {
   "cell_type": "markdown",
   "source": [
    "# Installing minerl\n",
    "MineRL requires some dependencies to be installed. Notably specific JDKs. [Link to docs](https://minerl.io/docs/tutorials/index.html)"
   ],
   "metadata": {
    "collapsed": false
   }
  },
  {
   "cell_type": "code",
   "execution_count": 29,
   "outputs": [
    {
     "name": "stdout",
     "output_type": "stream",
     "text": [
      "/mnt/l/PythonRL/data\n"
     ]
    }
   ],
   "source": [
    "import minerl\n",
    "# minerl.data.download('./data/')\n",
    "# Set the environment variable MINERL_DATA_ROOT to the path of the data directory.\n",
    "import os\n",
    "os.environ['MINERL_DATA_ROOT'] = os.path.join(os.getcwd(), 'data')\n",
    "print(os.environ['MINERL_DATA_ROOT'])\n",
    "# Run: `python3 -m minerl.data.download --environment \"MineRLTreechop-v0\"`\n"
   ],
   "metadata": {
    "collapsed": false
   }
  },
  {
   "cell_type": "code",
   "execution_count": 26,
   "outputs": [
    {
     "name": "stdout",
     "output_type": "stream",
     "text": [
      "Looking in indexes: https://download.pytorch.org/whl/cu118\r\n",
      "Requirement already satisfied: torch in /home/sasha/miniconda3/envs/minerl/lib/python3.9/site-packages (2.0.0+cu118)\r\n",
      "Requirement already satisfied: torchvision in /home/sasha/miniconda3/envs/minerl/lib/python3.9/site-packages (0.15.1+cu118)\r\n",
      "Requirement already satisfied: torchaudio in /home/sasha/miniconda3/envs/minerl/lib/python3.9/site-packages (2.0.1+cu118)\r\n",
      "Requirement already satisfied: jinja2 in /home/sasha/miniconda3/envs/minerl/lib/python3.9/site-packages (from torch) (3.1.2)\r\n",
      "Requirement already satisfied: sympy in /home/sasha/miniconda3/envs/minerl/lib/python3.9/site-packages (from torch) (1.11.1)\r\n",
      "Requirement already satisfied: networkx in /home/sasha/miniconda3/envs/minerl/lib/python3.9/site-packages (from torch) (3.0)\r\n",
      "Requirement already satisfied: triton==2.0.0 in /home/sasha/miniconda3/envs/minerl/lib/python3.9/site-packages (from torch) (2.0.0)\r\n",
      "Requirement already satisfied: typing-extensions in /home/sasha/miniconda3/envs/minerl/lib/python3.9/site-packages (from torch) (4.4.0)\r\n",
      "Requirement already satisfied: filelock in /home/sasha/miniconda3/envs/minerl/lib/python3.9/site-packages (from torch) (3.9.0)\r\n",
      "Requirement already satisfied: lit in /home/sasha/miniconda3/envs/minerl/lib/python3.9/site-packages (from triton==2.0.0->torch) (15.0.7)\r\n",
      "Requirement already satisfied: cmake in /home/sasha/miniconda3/envs/minerl/lib/python3.9/site-packages (from triton==2.0.0->torch) (3.25.0)\r\n",
      "Requirement already satisfied: numpy in /home/sasha/miniconda3/envs/minerl/lib/python3.9/site-packages (from torchvision) (1.24.1)\r\n",
      "Requirement already satisfied: pillow!=8.3.*,>=5.3.0 in /home/sasha/miniconda3/envs/minerl/lib/python3.9/site-packages (from torchvision) (9.3.0)\r\n",
      "Requirement already satisfied: requests in /home/sasha/miniconda3/envs/minerl/lib/python3.9/site-packages (from torchvision) (2.28.1)\r\n",
      "Requirement already satisfied: MarkupSafe>=2.0 in /home/sasha/miniconda3/envs/minerl/lib/python3.9/site-packages (from jinja2->torch) (2.1.2)\r\n",
      "Requirement already satisfied: charset-normalizer<3,>=2 in /home/sasha/miniconda3/envs/minerl/lib/python3.9/site-packages (from requests->torchvision) (2.1.1)\r\n",
      "Requirement already satisfied: certifi>=2017.4.17 in /home/sasha/miniconda3/envs/minerl/lib/python3.9/site-packages (from requests->torchvision) (2022.12.7)\r\n",
      "Requirement already satisfied: idna<4,>=2.5 in /home/sasha/miniconda3/envs/minerl/lib/python3.9/site-packages (from requests->torchvision) (3.4)\r\n",
      "Requirement already satisfied: urllib3<1.27,>=1.21.1 in /home/sasha/miniconda3/envs/minerl/lib/python3.9/site-packages (from requests->torchvision) (1.26.13)\r\n",
      "Requirement already satisfied: mpmath>=0.19 in /home/sasha/miniconda3/envs/minerl/lib/python3.9/site-packages (from sympy->torch) (1.2.1)\r\n",
      "Note: you may need to restart the kernel to use updated packages.\n"
     ]
    }
   ],
   "source": [
    "%pip install torch torchvision torchaudio --index-url https://download.pytorch.org/whl/cu118"
   ],
   "metadata": {
    "collapsed": false
   }
  },
  {
   "cell_type": "code",
   "execution_count": null,
   "outputs": [],
   "source": [],
   "metadata": {
    "collapsed": false
   }
  },
  {
   "cell_type": "markdown",
   "source": [
    "#Setting up PyTorch for GPU"
   ],
   "metadata": {
    "collapsed": false
   }
  },
  {
   "cell_type": "code",
   "execution_count": null,
   "outputs": [],
   "source": [
    "import torch\n",
    "torch.cuda.is_available()\n"
   ],
   "metadata": {
    "collapsed": false
   }
  },
  {
   "cell_type": "markdown",
   "source": [],
   "metadata": {
    "collapsed": false
   }
  }
 ],
 "metadata": {
  "kernelspec": {
   "display_name": "Python 3",
   "language": "python",
   "name": "python3"
  },
  "language_info": {
   "codemirror_mode": {
    "name": "ipython",
    "version": 2
   },
   "file_extension": ".py",
   "mimetype": "text/x-python",
   "name": "python",
   "nbconvert_exporter": "python",
   "pygments_lexer": "ipython2",
   "version": "2.7.6"
  }
 },
 "nbformat": 4,
 "nbformat_minor": 0
}
