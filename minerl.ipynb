{
 "cells": [
  {
   "cell_type": "code",
   "execution_count": 1,
   "outputs": [
    {
     "name": "stdout",
     "output_type": "stream",
     "text": [
      "Looking in indexes: https://download.pytorch.org/whl/cu118\r\n",
      "Requirement already satisfied: torch in /home/sasha/miniconda3/envs/minerl/lib/python3.9/site-packages (2.0.0+cu118)\r\n",
      "Requirement already satisfied: torchvision in /home/sasha/miniconda3/envs/minerl/lib/python3.9/site-packages (0.15.1+cu118)\r\n",
      "Requirement already satisfied: torchaudio in /home/sasha/miniconda3/envs/minerl/lib/python3.9/site-packages (2.0.1+cu118)\r\n",
      "Requirement already satisfied: typing-extensions in /home/sasha/miniconda3/envs/minerl/lib/python3.9/site-packages (from torch) (4.4.0)\r\n",
      "Requirement already satisfied: sympy in /home/sasha/miniconda3/envs/minerl/lib/python3.9/site-packages (from torch) (1.11.1)\r\n",
      "Requirement already satisfied: networkx in /home/sasha/miniconda3/envs/minerl/lib/python3.9/site-packages (from torch) (3.0)\r\n",
      "Requirement already satisfied: filelock in /home/sasha/miniconda3/envs/minerl/lib/python3.9/site-packages (from torch) (3.9.0)\r\n",
      "Requirement already satisfied: triton==2.0.0 in /home/sasha/miniconda3/envs/minerl/lib/python3.9/site-packages (from torch) (2.0.0)\r\n",
      "Requirement already satisfied: jinja2 in /home/sasha/miniconda3/envs/minerl/lib/python3.9/site-packages (from torch) (3.1.2)\r\n",
      "Requirement already satisfied: cmake in /home/sasha/miniconda3/envs/minerl/lib/python3.9/site-packages (from triton==2.0.0->torch) (3.25.0)\r\n",
      "Requirement already satisfied: lit in /home/sasha/miniconda3/envs/minerl/lib/python3.9/site-packages (from triton==2.0.0->torch) (15.0.7)\r\n",
      "Requirement already satisfied: pillow!=8.3.*,>=5.3.0 in /home/sasha/miniconda3/envs/minerl/lib/python3.9/site-packages (from torchvision) (9.3.0)\r\n",
      "Requirement already satisfied: numpy in /home/sasha/miniconda3/envs/minerl/lib/python3.9/site-packages (from torchvision) (1.24.1)\r\n",
      "Requirement already satisfied: requests in /home/sasha/miniconda3/envs/minerl/lib/python3.9/site-packages (from torchvision) (2.28.1)\r\n",
      "Requirement already satisfied: MarkupSafe>=2.0 in /home/sasha/miniconda3/envs/minerl/lib/python3.9/site-packages (from jinja2->torch) (2.1.2)\r\n",
      "Requirement already satisfied: urllib3<1.27,>=1.21.1 in /home/sasha/miniconda3/envs/minerl/lib/python3.9/site-packages (from requests->torchvision) (1.26.13)\r\n",
      "Requirement already satisfied: idna<4,>=2.5 in /home/sasha/miniconda3/envs/minerl/lib/python3.9/site-packages (from requests->torchvision) (3.4)\r\n",
      "Requirement already satisfied: certifi>=2017.4.17 in /home/sasha/miniconda3/envs/minerl/lib/python3.9/site-packages (from requests->torchvision) (2022.12.7)\r\n",
      "Requirement already satisfied: charset-normalizer<3,>=2 in /home/sasha/miniconda3/envs/minerl/lib/python3.9/site-packages (from requests->torchvision) (2.1.1)\r\n",
      "Requirement already satisfied: mpmath>=0.19 in /home/sasha/miniconda3/envs/minerl/lib/python3.9/site-packages (from sympy->torch) (1.2.1)\r\n",
      "Note: you may need to restart the kernel to use updated packages.\n"
     ]
    }
   ],
   "source": [
    "%pip install torch torchvision torchaudio --index-url https://download.pytorch.org/whl/cu118"
   ],
   "metadata": {
    "collapsed": false
   }
  },
  {
   "cell_type": "code",
   "execution_count": 2,
   "outputs": [
    {
     "name": "stdout",
     "output_type": "stream",
     "text": [
      "Requirement already satisfied: numpy in /home/sasha/miniconda3/envs/minerl/lib/python3.9/site-packages (1.24.1)\r\n",
      "Requirement already satisfied: pygame in /home/sasha/miniconda3/envs/minerl/lib/python3.9/site-packages (2.3.0)\r\n",
      "Requirement already satisfied: tqdm in /home/sasha/.local/lib/python3.9/site-packages (4.65.0)\r\n",
      "Requirement already satisfied: matplotlib in /home/sasha/.local/lib/python3.9/site-packages (3.7.1)\r\n",
      "Requirement already satisfied: ipywidgets in /home/sasha/miniconda3/envs/minerl/lib/python3.9/site-packages (8.0.4)\r\n",
      "Requirement already satisfied: pandas in /home/sasha/miniconda3/envs/minerl/lib/python3.9/site-packages (1.5.3)\r\n",
      "Requirement already satisfied: torch in /home/sasha/miniconda3/envs/minerl/lib/python3.9/site-packages (2.0.0+cu118)\r\n",
      "Requirement already satisfied: Pillow in /home/sasha/miniconda3/envs/minerl/lib/python3.9/site-packages (9.3.0)\r\n",
      "Requirement already satisfied: ipympl in /home/sasha/miniconda3/envs/minerl/lib/python3.9/site-packages (0.9.3)\r\n",
      "Requirement already satisfied: pyparsing>=2.3.1 in /home/sasha/.local/lib/python3.9/site-packages (from matplotlib) (3.0.9)\r\n",
      "Requirement already satisfied: fonttools>=4.22.0 in /home/sasha/.local/lib/python3.9/site-packages (from matplotlib) (4.39.2)\r\n",
      "Requirement already satisfied: contourpy>=1.0.1 in /home/sasha/.local/lib/python3.9/site-packages (from matplotlib) (1.0.7)\r\n",
      "Requirement already satisfied: python-dateutil>=2.7 in /home/sasha/miniconda3/envs/minerl/lib/python3.9/site-packages (from matplotlib) (2.8.2)\r\n",
      "Requirement already satisfied: kiwisolver>=1.0.1 in /home/sasha/.local/lib/python3.9/site-packages (from matplotlib) (1.4.4)\r\n",
      "Requirement already satisfied: cycler>=0.10 in /home/sasha/.local/lib/python3.9/site-packages (from matplotlib) (0.11.0)\r\n",
      "Requirement already satisfied: packaging>=20.0 in /home/sasha/miniconda3/envs/minerl/lib/python3.9/site-packages (from matplotlib) (23.0)\r\n",
      "Requirement already satisfied: importlib-resources>=3.2.0 in /home/sasha/.local/lib/python3.9/site-packages (from matplotlib) (5.12.0)\r\n",
      "Requirement already satisfied: widgetsnbextension~=4.0 in /home/sasha/miniconda3/envs/minerl/lib/python3.9/site-packages (from ipywidgets) (4.0.5)\r\n",
      "Requirement already satisfied: ipykernel>=4.5.1 in /home/sasha/miniconda3/envs/minerl/lib/python3.9/site-packages (from ipywidgets) (6.21.3)\r\n",
      "Requirement already satisfied: traitlets>=4.3.1 in /home/sasha/miniconda3/envs/minerl/lib/python3.9/site-packages (from ipywidgets) (5.9.0)\r\n",
      "Requirement already satisfied: jupyterlab-widgets~=3.0 in /home/sasha/miniconda3/envs/minerl/lib/python3.9/site-packages (from ipywidgets) (3.0.5)\r\n",
      "Requirement already satisfied: ipython>=6.1.0 in /home/sasha/miniconda3/envs/minerl/lib/python3.9/site-packages (from ipywidgets) (8.11.0)\r\n",
      "Requirement already satisfied: pytz>=2020.1 in /home/sasha/miniconda3/envs/minerl/lib/python3.9/site-packages (from pandas) (2022.7.1)\r\n",
      "Requirement already satisfied: networkx in /home/sasha/miniconda3/envs/minerl/lib/python3.9/site-packages (from torch) (3.0)\r\n",
      "Requirement already satisfied: filelock in /home/sasha/miniconda3/envs/minerl/lib/python3.9/site-packages (from torch) (3.9.0)\r\n",
      "Requirement already satisfied: triton==2.0.0 in /home/sasha/miniconda3/envs/minerl/lib/python3.9/site-packages (from torch) (2.0.0)\r\n",
      "Requirement already satisfied: typing-extensions in /home/sasha/miniconda3/envs/minerl/lib/python3.9/site-packages (from torch) (4.4.0)\r\n",
      "Requirement already satisfied: sympy in /home/sasha/miniconda3/envs/minerl/lib/python3.9/site-packages (from torch) (1.11.1)\r\n",
      "Requirement already satisfied: jinja2 in /home/sasha/miniconda3/envs/minerl/lib/python3.9/site-packages (from torch) (3.1.2)\r\n",
      "Requirement already satisfied: lit in /home/sasha/miniconda3/envs/minerl/lib/python3.9/site-packages (from triton==2.0.0->torch) (15.0.7)\r\n",
      "Requirement already satisfied: cmake in /home/sasha/miniconda3/envs/minerl/lib/python3.9/site-packages (from triton==2.0.0->torch) (3.25.0)\r\n",
      "Requirement already satisfied: ipython-genutils in /home/sasha/miniconda3/envs/minerl/lib/python3.9/site-packages (from ipympl) (0.2.0)\r\n",
      "Requirement already satisfied: zipp>=3.1.0 in /home/sasha/miniconda3/envs/minerl/lib/python3.9/site-packages (from importlib-resources>=3.2.0->matplotlib) (3.15.0)\r\n",
      "Requirement already satisfied: matplotlib-inline>=0.1 in /home/sasha/miniconda3/envs/minerl/lib/python3.9/site-packages (from ipykernel>=4.5.1->ipywidgets) (0.1.6)\r\n",
      "Requirement already satisfied: jupyter-client>=6.1.12 in /home/sasha/miniconda3/envs/minerl/lib/python3.9/site-packages (from ipykernel>=4.5.1->ipywidgets) (8.0.3)\r\n",
      "Requirement already satisfied: jupyter-core!=5.0.*,>=4.12 in /home/sasha/miniconda3/envs/minerl/lib/python3.9/site-packages (from ipykernel>=4.5.1->ipywidgets) (5.3.0)\r\n",
      "Requirement already satisfied: debugpy>=1.6.5 in /home/sasha/miniconda3/envs/minerl/lib/python3.9/site-packages (from ipykernel>=4.5.1->ipywidgets) (1.6.6)\r\n",
      "Requirement already satisfied: pyzmq>=20 in /home/sasha/miniconda3/envs/minerl/lib/python3.9/site-packages (from ipykernel>=4.5.1->ipywidgets) (25.0.1)\r\n",
      "Requirement already satisfied: tornado>=6.1 in /home/sasha/miniconda3/envs/minerl/lib/python3.9/site-packages (from ipykernel>=4.5.1->ipywidgets) (6.2)\r\n",
      "Requirement already satisfied: psutil in /home/sasha/miniconda3/envs/minerl/lib/python3.9/site-packages (from ipykernel>=4.5.1->ipywidgets) (5.9.4)\r\n",
      "Requirement already satisfied: comm>=0.1.1 in /home/sasha/miniconda3/envs/minerl/lib/python3.9/site-packages (from ipykernel>=4.5.1->ipywidgets) (0.1.2)\r\n",
      "Requirement already satisfied: nest-asyncio in /home/sasha/miniconda3/envs/minerl/lib/python3.9/site-packages (from ipykernel>=4.5.1->ipywidgets) (1.5.6)\r\n",
      "Requirement already satisfied: pexpect>4.3 in /home/sasha/miniconda3/envs/minerl/lib/python3.9/site-packages (from ipython>=6.1.0->ipywidgets) (4.8.0)\r\n",
      "Requirement already satisfied: decorator in /home/sasha/miniconda3/envs/minerl/lib/python3.9/site-packages (from ipython>=6.1.0->ipywidgets) (5.1.1)\r\n",
      "Requirement already satisfied: stack-data in /home/sasha/miniconda3/envs/minerl/lib/python3.9/site-packages (from ipython>=6.1.0->ipywidgets) (0.6.2)\r\n",
      "Requirement already satisfied: backcall in /home/sasha/miniconda3/envs/minerl/lib/python3.9/site-packages (from ipython>=6.1.0->ipywidgets) (0.2.0)\r\n",
      "Requirement already satisfied: jedi>=0.16 in /home/sasha/miniconda3/envs/minerl/lib/python3.9/site-packages (from ipython>=6.1.0->ipywidgets) (0.18.2)\r\n",
      "Requirement already satisfied: prompt-toolkit!=3.0.37,<3.1.0,>=3.0.30 in /home/sasha/miniconda3/envs/minerl/lib/python3.9/site-packages (from ipython>=6.1.0->ipywidgets) (3.0.38)\r\n",
      "Requirement already satisfied: pygments>=2.4.0 in /home/sasha/miniconda3/envs/minerl/lib/python3.9/site-packages (from ipython>=6.1.0->ipywidgets) (2.14.0)\r\n",
      "Requirement already satisfied: pickleshare in /home/sasha/miniconda3/envs/minerl/lib/python3.9/site-packages (from ipython>=6.1.0->ipywidgets) (0.7.5)\r\n",
      "Requirement already satisfied: six>=1.5 in /home/sasha/miniconda3/envs/minerl/lib/python3.9/site-packages (from python-dateutil>=2.7->matplotlib) (1.16.0)\r\n",
      "Requirement already satisfied: MarkupSafe>=2.0 in /home/sasha/miniconda3/envs/minerl/lib/python3.9/site-packages (from jinja2->torch) (2.1.2)\r\n",
      "Requirement already satisfied: mpmath>=0.19 in /home/sasha/miniconda3/envs/minerl/lib/python3.9/site-packages (from sympy->torch) (1.2.1)\r\n",
      "Requirement already satisfied: parso<0.9.0,>=0.8.0 in /home/sasha/miniconda3/envs/minerl/lib/python3.9/site-packages (from jedi>=0.16->ipython>=6.1.0->ipywidgets) (0.8.3)\r\n",
      "Requirement already satisfied: importlib-metadata>=4.8.3 in /home/sasha/miniconda3/envs/minerl/lib/python3.9/site-packages (from jupyter-client>=6.1.12->ipykernel>=4.5.1->ipywidgets) (6.0.0)\r\n",
      "Requirement already satisfied: platformdirs>=2.5 in /home/sasha/miniconda3/envs/minerl/lib/python3.9/site-packages (from jupyter-core!=5.0.*,>=4.12->ipykernel>=4.5.1->ipywidgets) (3.1.1)\r\n",
      "Requirement already satisfied: ptyprocess>=0.5 in /home/sasha/miniconda3/envs/minerl/lib/python3.9/site-packages (from pexpect>4.3->ipython>=6.1.0->ipywidgets) (0.7.0)\r\n",
      "Requirement already satisfied: wcwidth in /home/sasha/miniconda3/envs/minerl/lib/python3.9/site-packages (from prompt-toolkit!=3.0.37,<3.1.0,>=3.0.30->ipython>=6.1.0->ipywidgets) (0.2.6)\r\n",
      "Requirement already satisfied: executing>=1.2.0 in /home/sasha/miniconda3/envs/minerl/lib/python3.9/site-packages (from stack-data->ipython>=6.1.0->ipywidgets) (1.2.0)\r\n",
      "Requirement already satisfied: asttokens>=2.1.0 in /home/sasha/miniconda3/envs/minerl/lib/python3.9/site-packages (from stack-data->ipython>=6.1.0->ipywidgets) (2.2.1)\r\n",
      "Requirement already satisfied: pure-eval in /home/sasha/miniconda3/envs/minerl/lib/python3.9/site-packages (from stack-data->ipython>=6.1.0->ipywidgets) (0.2.2)\r\n",
      "Note: you may need to restart the kernel to use updated packages.\n",
      "Requirement already satisfied: minedojo in /home/sasha/.local/lib/python3.9/site-packages (0.1)\r\n",
      "Requirement already satisfied: Pillow in /home/sasha/miniconda3/envs/minerl/lib/python3.9/site-packages (from minedojo) (9.3.0)\r\n",
      "Requirement already satisfied: pyyaml in /home/sasha/miniconda3/envs/minerl/lib/python3.9/site-packages (from minedojo) (6.0)\r\n",
      "Requirement already satisfied: opencv-python in /home/sasha/.local/lib/python3.9/site-packages (from minedojo) (4.7.0.72)\r\n",
      "Requirement already satisfied: requests in /home/sasha/miniconda3/envs/minerl/lib/python3.9/site-packages (from minedojo) (2.28.1)\r\n",
      "Requirement already satisfied: lxml in /home/sasha/.local/lib/python3.9/site-packages (from minedojo) (4.9.2)\r\n",
      "Requirement already satisfied: numpy in /home/sasha/miniconda3/envs/minerl/lib/python3.9/site-packages (from minedojo) (1.24.1)\r\n",
      "Requirement already satisfied: jinja2 in /home/sasha/miniconda3/envs/minerl/lib/python3.9/site-packages (from minedojo) (3.1.2)\r\n",
      "Requirement already satisfied: pytest in /home/sasha/.local/lib/python3.9/site-packages (from minedojo) (7.2.2)\r\n",
      "Requirement already satisfied: tqdm in /home/sasha/.local/lib/python3.9/site-packages (from minedojo) (4.65.0)\r\n",
      "Requirement already satisfied: mypy-extensions in /home/sasha/.local/lib/python3.9/site-packages (from minedojo) (1.0.0)\r\n",
      "Requirement already satisfied: daemoniker in /home/sasha/.local/lib/python3.9/site-packages (from minedojo) (0.2.3)\r\n",
      "Requirement already satisfied: praw in /home/sasha/.local/lib/python3.9/site-packages (from minedojo) (7.7.0)\r\n",
      "Requirement already satisfied: jsonlines in /home/sasha/.local/lib/python3.9/site-packages (from minedojo) (3.1.0)\r\n",
      "Requirement already satisfied: multiprocess in /home/sasha/.local/lib/python3.9/site-packages (from minedojo) (0.70.14)\r\n",
      "Requirement already satisfied: wget in /home/sasha/.local/lib/python3.9/site-packages (from minedojo) (3.2)\r\n",
      "Requirement already satisfied: hydra-core in /home/sasha/.local/lib/python3.9/site-packages (from minedojo) (1.3.2)\r\n",
      "Requirement already satisfied: importlib-resources in /home/sasha/.local/lib/python3.9/site-packages (from minedojo) (5.12.0)\r\n",
      "Requirement already satisfied: gym==0.21.0 in /home/sasha/.local/lib/python3.9/site-packages (from minedojo) (0.21.0)\r\n",
      "Requirement already satisfied: psutil in /home/sasha/miniconda3/envs/minerl/lib/python3.9/site-packages (from minedojo) (5.9.4)\r\n",
      "Requirement already satisfied: Pyro4 in /home/sasha/.local/lib/python3.9/site-packages (from minedojo) (4.82)\r\n",
      "Requirement already satisfied: coloredlogs in /home/sasha/.local/lib/python3.9/site-packages (from minedojo) (15.0.1)\r\n",
      "Requirement already satisfied: xmltodict in /home/sasha/.local/lib/python3.9/site-packages (from minedojo) (0.12.0)\r\n",
      "Requirement already satisfied: cloudpickle>=1.2.0 in /home/sasha/.local/lib/python3.9/site-packages (from gym==0.21.0->minedojo) (1.6.0)\r\n",
      "Requirement already satisfied: humanfriendly>=9.1 in /home/sasha/.local/lib/python3.9/site-packages (from coloredlogs->minedojo) (10.0)\r\n",
      "Requirement already satisfied: antlr4-python3-runtime==4.9.* in /home/sasha/.local/lib/python3.9/site-packages (from hydra-core->minedojo) (4.9.3)\r\n",
      "Requirement already satisfied: packaging in /home/sasha/miniconda3/envs/minerl/lib/python3.9/site-packages (from hydra-core->minedojo) (23.0)\r\n",
      "Requirement already satisfied: omegaconf<2.4,>=2.2 in /home/sasha/.local/lib/python3.9/site-packages (from hydra-core->minedojo) (2.3.0)\r\n",
      "Requirement already satisfied: zipp>=3.1.0 in /home/sasha/miniconda3/envs/minerl/lib/python3.9/site-packages (from importlib-resources->minedojo) (3.15.0)\r\n",
      "Requirement already satisfied: MarkupSafe>=2.0 in /home/sasha/miniconda3/envs/minerl/lib/python3.9/site-packages (from jinja2->minedojo) (2.1.2)\r\n",
      "Requirement already satisfied: attrs>=19.2.0 in /home/sasha/miniconda3/envs/minerl/lib/python3.9/site-packages (from jsonlines->minedojo) (22.2.0)\r\n",
      "Requirement already satisfied: dill>=0.3.6 in /home/sasha/.local/lib/python3.9/site-packages (from multiprocess->minedojo) (0.3.6)\r\n",
      "Requirement already satisfied: update-checker>=0.18 in /home/sasha/.local/lib/python3.9/site-packages (from praw->minedojo) (0.18.0)\r\n",
      "Requirement already satisfied: prawcore<3,>=2.1 in /home/sasha/.local/lib/python3.9/site-packages (from praw->minedojo) (2.3.0)\r\n",
      "Requirement already satisfied: websocket-client>=0.54.0 in /home/sasha/miniconda3/envs/minerl/lib/python3.9/site-packages (from praw->minedojo) (1.5.1)\r\n",
      "Requirement already satisfied: serpent>=1.27 in /home/sasha/.local/lib/python3.9/site-packages (from Pyro4->minedojo) (1.41)\r\n",
      "Requirement already satisfied: tomli>=1.0.0 in /home/sasha/.local/lib/python3.9/site-packages (from pytest->minedojo) (2.0.1)\r\n",
      "Requirement already satisfied: exceptiongroup>=1.0.0rc8 in /home/sasha/.local/lib/python3.9/site-packages (from pytest->minedojo) (1.1.1)\r\n",
      "Requirement already satisfied: pluggy<2.0,>=0.12 in /home/sasha/.local/lib/python3.9/site-packages (from pytest->minedojo) (1.0.0)\r\n",
      "Requirement already satisfied: iniconfig in /home/sasha/.local/lib/python3.9/site-packages (from pytest->minedojo) (2.0.0)\r\n",
      "Requirement already satisfied: urllib3<1.27,>=1.21.1 in /home/sasha/miniconda3/envs/minerl/lib/python3.9/site-packages (from requests->minedojo) (1.26.13)\r\n",
      "Requirement already satisfied: idna<4,>=2.5 in /home/sasha/miniconda3/envs/minerl/lib/python3.9/site-packages (from requests->minedojo) (3.4)\r\n",
      "Requirement already satisfied: certifi>=2017.4.17 in /home/sasha/miniconda3/envs/minerl/lib/python3.9/site-packages (from requests->minedojo) (2022.12.7)\r\n",
      "Requirement already satisfied: charset-normalizer<3,>=2 in /home/sasha/miniconda3/envs/minerl/lib/python3.9/site-packages (from requests->minedojo) (2.1.1)\r\n",
      "Note: you may need to restart the kernel to use updated packages.\n"
     ]
    }
   ],
   "source": [
    "%pip install numpy pygame tqdm matplotlib ipywidgets pandas torch Pillow ipympl\n",
    "%pip install minedojo --user"
   ],
   "metadata": {
    "collapsed": false
   }
  },
  {
   "cell_type": "markdown",
   "source": [
    "#Setting up PyTorch for GPU"
   ],
   "metadata": {
    "collapsed": false
   }
  },
  {
   "cell_type": "code",
   "execution_count": 3,
   "outputs": [
    {
     "data": {
      "text/plain": "True"
     },
     "execution_count": 3,
     "metadata": {},
     "output_type": "execute_result"
    }
   ],
   "source": [
    "import torch\n",
    "import torch\n",
    "import torch.nn as nn\n",
    "import torch.optim as optim\n",
    "import torch.nn.functional as F\n",
    "from torch.distributions import Categorical\n",
    "\n",
    "torch.cuda.is_available()"
   ],
   "metadata": {
    "collapsed": false
   }
  },
  {
   "cell_type": "code",
   "execution_count": 4,
   "outputs": [
    {
     "name": "stderr",
     "output_type": "stream",
     "text": [
      "[INFO:minedojo.tasks] Loaded 1572 Programmatic tasks, 1558 Creative tasks, and 1 special task: \"Playthrough\". Totally 3131 tasks loaded.\n"
     ]
    }
   ],
   "source": [
    "import numpy as np\n",
    "import itertools\n",
    "from tqdm.notebook import trange, tqdm\n",
    "import pandas as pd\n",
    "import sys\n",
    "from abc import ABC\n",
    "from mpl_toolkits.mplot3d import Axes3D\n",
    "from matplotlib import cm\n",
    "import matplotlib.pyplot as plt\n",
    "from PIL import Image\n",
    "import minedojo\n",
    "%matplotlib widget"
   ],
   "metadata": {
    "collapsed": false
   }
  },
  {
   "cell_type": "code",
   "execution_count": 5,
   "outputs": [
    {
     "data": {
      "text/plain": "['combat_shulker_end_leather_armors_wooden_sword_shield',\n 'combat_shulker_end_iron_armors_wooden_sword_shield',\n 'combat_shulker_end_diamond_armors_wooden_sword_shield',\n 'combat_endermite_end_leather_armors_wooden_sword_shield',\n 'combat_endermite_end_iron_armors_wooden_sword_shield',\n 'combat_endermite_end_diamond_armors_wooden_sword_shield',\n 'combat_shulker_end_leather_armors_iron_sword_shield',\n 'combat_shulker_end_iron_armors_iron_sword_shield',\n 'combat_shulker_end_diamond_armors_iron_sword_shield',\n 'combat_endermite_end_leather_armors_iron_sword_shield',\n 'combat_endermite_end_iron_armors_iron_sword_shield',\n 'combat_endermite_end_diamond_armors_iron_sword_shield',\n 'combat_shulker_end_leather_armors_diamond_sword_shield',\n 'combat_shulker_end_iron_armors_diamond_sword_shield',\n 'combat_shulker_end_diamond_armors_diamond_sword_shield',\n 'combat_endermite_end_leather_armors_diamond_sword_shield',\n 'combat_endermite_end_iron_armors_diamond_sword_shield',\n 'combat_endermite_end_diamond_armors_diamond_sword_shield',\n 'combat_blaze_nether_leather_armors_wooden_sword_shield',\n 'combat_ghast_nether_leather_armors_wooden_sword_shield',\n 'combat_wither_skeleton_nether_leather_armors_wooden_sword_shield',\n 'combat_zombie_pigman_nether_leather_armors_wooden_sword_shield',\n 'combat_blaze_nether_iron_armors_wooden_sword_shield',\n 'combat_ghast_nether_iron_armors_wooden_sword_shield',\n 'combat_wither_skeleton_nether_iron_armors_wooden_sword_shield',\n 'combat_zombie_pigman_nether_iron_armors_wooden_sword_shield',\n 'combat_blaze_nether_diamond_armors_wooden_sword_shield',\n 'combat_ghast_nether_diamond_armors_wooden_sword_shield',\n 'combat_wither_skeleton_nether_diamond_armors_wooden_sword_shield',\n 'combat_zombie_pigman_nether_diamond_armors_wooden_sword_shield',\n 'combat_blaze_nether_leather_armors_iron_sword_shield',\n 'combat_ghast_nether_leather_armors_iron_sword_shield',\n 'combat_wither_skeleton_nether_leather_armors_iron_sword_shield',\n 'combat_zombie_pigman_nether_leather_armors_iron_sword_shield',\n 'combat_blaze_nether_iron_armors_iron_sword_shield',\n 'combat_ghast_nether_iron_armors_iron_sword_shield',\n 'combat_wither_skeleton_nether_iron_armors_iron_sword_shield',\n 'combat_zombie_pigman_nether_iron_armors_iron_sword_shield',\n 'combat_blaze_nether_diamond_armors_iron_sword_shield',\n 'combat_ghast_nether_diamond_armors_iron_sword_shield',\n 'combat_wither_skeleton_nether_diamond_armors_iron_sword_shield',\n 'combat_zombie_pigman_nether_diamond_armors_iron_sword_shield',\n 'combat_blaze_nether_leather_armors_diamond_sword_shield',\n 'combat_ghast_nether_leather_armors_diamond_sword_shield',\n 'combat_wither_skeleton_nether_leather_armors_diamond_sword_shield',\n 'combat_zombie_pigman_nether_leather_armors_diamond_sword_shield',\n 'combat_blaze_nether_iron_armors_diamond_sword_shield',\n 'combat_ghast_nether_iron_armors_diamond_sword_shield',\n 'combat_wither_skeleton_nether_iron_armors_diamond_sword_shield',\n 'combat_zombie_pigman_nether_iron_armors_diamond_sword_shield',\n 'combat_blaze_nether_diamond_armors_diamond_sword_shield',\n 'combat_ghast_nether_diamond_armors_diamond_sword_shield',\n 'combat_wither_skeleton_nether_diamond_armors_diamond_sword_shield',\n 'combat_zombie_pigman_nether_diamond_armors_diamond_sword_shield',\n 'combat_slime_swamp_leather_armors_wooden_sword_shield',\n 'combat_slime_swamp_leather_armors_iron_sword_shield',\n 'combat_slime_swamp_leather_armors_diamond_sword_shield',\n 'combat_slime_swamp_iron_armors_wooden_sword_shield',\n 'combat_slime_swamp_iron_armors_iron_sword_shield',\n 'combat_slime_swamp_iron_armors_diamond_sword_shield',\n 'combat_slime_swamp_diamond_armors_wooden_sword_shield',\n 'combat_slime_swamp_diamond_armors_iron_sword_shield',\n 'combat_slime_swamp_diamond_armors_diamond_sword_shield',\n 'combat_husk_desert_leather_armors_wooden_sword_shield',\n 'combat_husk_desert_leather_armors_iron_sword_shield',\n 'combat_husk_desert_leather_armors_diamond_sword_shield',\n 'combat_husk_desert_iron_armors_wooden_sword_shield',\n 'combat_husk_desert_iron_armors_iron_sword_shield',\n 'combat_husk_desert_iron_armors_diamond_sword_shield',\n 'combat_husk_desert_diamond_armors_wooden_sword_shield',\n 'combat_husk_desert_diamond_armors_iron_sword_shield',\n 'combat_husk_desert_diamond_armors_diamond_sword_shield',\n 'combat_bat_forest_leather_armors_wooden_sword_shield',\n 'combat_bat_forest_leather_armors_iron_sword_shield',\n 'combat_bat_forest_leather_armors_diamond_sword_shield',\n 'combat_bat_forest_iron_armors_wooden_sword_shield',\n 'combat_bat_forest_iron_armors_iron_sword_shield',\n 'combat_bat_forest_iron_armors_diamond_sword_shield',\n 'combat_bat_forest_diamond_armors_wooden_sword_shield',\n 'combat_bat_forest_diamond_armors_iron_sword_shield',\n 'combat_bat_forest_diamond_armors_diamond_sword_shield',\n 'combat_bat_plains_leather_armors_wooden_sword_shield',\n 'combat_bat_plains_leather_armors_iron_sword_shield',\n 'combat_bat_plains_leather_armors_diamond_sword_shield',\n 'combat_bat_plains_iron_armors_wooden_sword_shield',\n 'combat_bat_plains_iron_armors_iron_sword_shield',\n 'combat_bat_plains_iron_armors_diamond_sword_shield',\n 'combat_bat_plains_diamond_armors_wooden_sword_shield',\n 'combat_bat_plains_diamond_armors_iron_sword_shield',\n 'combat_bat_plains_diamond_armors_diamond_sword_shield',\n 'combat_bat_extreme_hills_leather_armors_wooden_sword_shield',\n 'combat_bat_extreme_hills_leather_armors_iron_sword_shield',\n 'combat_bat_extreme_hills_leather_armors_diamond_sword_shield',\n 'combat_bat_extreme_hills_iron_armors_wooden_sword_shield',\n 'combat_bat_extreme_hills_iron_armors_iron_sword_shield',\n 'combat_bat_extreme_hills_iron_armors_diamond_sword_shield',\n 'combat_bat_extreme_hills_diamond_armors_wooden_sword_shield',\n 'combat_bat_extreme_hills_diamond_armors_iron_sword_shield',\n 'combat_bat_extreme_hills_diamond_armors_diamond_sword_shield',\n 'combat_zombie_forest_leather_armors_wooden_sword_shield',\n 'combat_zombie_forest_leather_armors_iron_sword_shield',\n 'combat_zombie_forest_leather_armors_diamond_sword_shield',\n 'combat_zombie_forest_iron_armors_wooden_sword_shield',\n 'combat_zombie_forest_iron_armors_iron_sword_shield',\n 'combat_zombie_forest_iron_armors_diamond_sword_shield',\n 'combat_zombie_forest_diamond_armors_wooden_sword_shield',\n 'combat_zombie_forest_diamond_armors_iron_sword_shield',\n 'combat_zombie_forest_diamond_armors_diamond_sword_shield',\n 'combat_spider_forest_leather_armors_wooden_sword_shield',\n 'combat_spider_forest_leather_armors_iron_sword_shield',\n 'combat_spider_forest_leather_armors_diamond_sword_shield',\n 'combat_spider_forest_iron_armors_wooden_sword_shield',\n 'combat_spider_forest_iron_armors_iron_sword_shield',\n 'combat_spider_forest_iron_armors_diamond_sword_shield',\n 'combat_spider_forest_diamond_armors_wooden_sword_shield',\n 'combat_spider_forest_diamond_armors_iron_sword_shield',\n 'combat_spider_forest_diamond_armors_diamond_sword_shield',\n 'combat_skeleton_forest_leather_armors_wooden_sword_shield',\n 'combat_skeleton_forest_leather_armors_iron_sword_shield',\n 'combat_skeleton_forest_leather_armors_diamond_sword_shield',\n 'combat_skeleton_forest_iron_armors_wooden_sword_shield',\n 'combat_skeleton_forest_iron_armors_iron_sword_shield',\n 'combat_skeleton_forest_iron_armors_diamond_sword_shield',\n 'combat_skeleton_forest_diamond_armors_wooden_sword_shield',\n 'combat_skeleton_forest_diamond_armors_iron_sword_shield',\n 'combat_skeleton_forest_diamond_armors_diamond_sword_shield',\n 'combat_creeper_forest_leather_armors_wooden_sword_shield',\n 'combat_creeper_forest_leather_armors_iron_sword_shield',\n 'combat_creeper_forest_leather_armors_diamond_sword_shield',\n 'combat_creeper_forest_iron_armors_wooden_sword_shield',\n 'combat_creeper_forest_iron_armors_iron_sword_shield',\n 'combat_creeper_forest_iron_armors_diamond_sword_shield',\n 'combat_creeper_forest_diamond_armors_wooden_sword_shield',\n 'combat_creeper_forest_diamond_armors_iron_sword_shield',\n 'combat_creeper_forest_diamond_armors_diamond_sword_shield',\n 'combat_witch_forest_leather_armors_wooden_sword_shield',\n 'combat_witch_forest_leather_armors_iron_sword_shield',\n 'combat_witch_forest_leather_armors_diamond_sword_shield',\n 'combat_witch_forest_iron_armors_wooden_sword_shield',\n 'combat_witch_forest_iron_armors_iron_sword_shield',\n 'combat_witch_forest_iron_armors_diamond_sword_shield',\n 'combat_witch_forest_diamond_armors_wooden_sword_shield',\n 'combat_witch_forest_diamond_armors_iron_sword_shield',\n 'combat_witch_forest_diamond_armors_diamond_sword_shield',\n 'combat_enderman_forest_leather_armors_wooden_sword_shield',\n 'combat_enderman_forest_leather_armors_iron_sword_shield',\n 'combat_enderman_forest_leather_armors_diamond_sword_shield',\n 'combat_enderman_forest_iron_armors_wooden_sword_shield',\n 'combat_enderman_forest_iron_armors_iron_sword_shield',\n 'combat_enderman_forest_iron_armors_diamond_sword_shield',\n 'combat_enderman_forest_diamond_armors_wooden_sword_shield',\n 'combat_enderman_forest_diamond_armors_iron_sword_shield',\n 'combat_enderman_forest_diamond_armors_diamond_sword_shield',\n 'combat_zombie_plains_leather_armors_wooden_sword_shield',\n 'combat_zombie_plains_leather_armors_iron_sword_shield',\n 'combat_zombie_plains_leather_armors_diamond_sword_shield',\n 'combat_zombie_plains_iron_armors_wooden_sword_shield',\n 'combat_zombie_plains_iron_armors_iron_sword_shield',\n 'combat_zombie_plains_iron_armors_diamond_sword_shield',\n 'combat_zombie_plains_diamond_armors_wooden_sword_shield',\n 'combat_zombie_plains_diamond_armors_iron_sword_shield',\n 'combat_zombie_plains_diamond_armors_diamond_sword_shield',\n 'combat_spider_plains_leather_armors_wooden_sword_shield',\n 'combat_spider_plains_leather_armors_iron_sword_shield',\n 'combat_spider_plains_leather_armors_diamond_sword_shield',\n 'combat_spider_plains_iron_armors_wooden_sword_shield',\n 'combat_spider_plains_iron_armors_iron_sword_shield',\n 'combat_spider_plains_iron_armors_diamond_sword_shield',\n 'combat_spider_plains_diamond_armors_wooden_sword_shield',\n 'combat_spider_plains_diamond_armors_iron_sword_shield',\n 'combat_spider_plains_diamond_armors_diamond_sword_shield',\n 'combat_skeleton_plains_leather_armors_wooden_sword_shield',\n 'combat_skeleton_plains_leather_armors_iron_sword_shield',\n 'combat_skeleton_plains_leather_armors_diamond_sword_shield',\n 'combat_skeleton_plains_iron_armors_wooden_sword_shield',\n 'combat_skeleton_plains_iron_armors_iron_sword_shield',\n 'combat_skeleton_plains_iron_armors_diamond_sword_shield',\n 'combat_skeleton_plains_diamond_armors_wooden_sword_shield',\n 'combat_skeleton_plains_diamond_armors_iron_sword_shield',\n 'combat_skeleton_plains_diamond_armors_diamond_sword_shield',\n 'combat_creeper_plains_leather_armors_wooden_sword_shield',\n 'combat_creeper_plains_leather_armors_iron_sword_shield',\n 'combat_creeper_plains_leather_armors_diamond_sword_shield',\n 'combat_creeper_plains_iron_armors_wooden_sword_shield',\n 'combat_creeper_plains_iron_armors_iron_sword_shield',\n 'combat_creeper_plains_iron_armors_diamond_sword_shield',\n 'combat_creeper_plains_diamond_armors_wooden_sword_shield',\n 'combat_creeper_plains_diamond_armors_iron_sword_shield',\n 'combat_creeper_plains_diamond_armors_diamond_sword_shield',\n 'combat_witch_plains_leather_armors_wooden_sword_shield',\n 'combat_witch_plains_leather_armors_iron_sword_shield',\n 'combat_witch_plains_leather_armors_diamond_sword_shield',\n 'combat_witch_plains_iron_armors_wooden_sword_shield',\n 'combat_witch_plains_iron_armors_iron_sword_shield',\n 'combat_witch_plains_iron_armors_diamond_sword_shield',\n 'combat_witch_plains_diamond_armors_wooden_sword_shield',\n 'combat_witch_plains_diamond_armors_iron_sword_shield',\n 'combat_witch_plains_diamond_armors_diamond_sword_shield',\n 'combat_enderman_plains_leather_armors_wooden_sword_shield',\n 'combat_enderman_plains_leather_armors_iron_sword_shield',\n 'combat_enderman_plains_leather_armors_diamond_sword_shield',\n 'combat_enderman_plains_iron_armors_wooden_sword_shield',\n 'combat_enderman_plains_iron_armors_iron_sword_shield',\n 'combat_enderman_plains_iron_armors_diamond_sword_shield',\n 'combat_enderman_plains_diamond_armors_wooden_sword_shield',\n 'combat_enderman_plains_diamond_armors_iron_sword_shield',\n 'combat_enderman_plains_diamond_armors_diamond_sword_shield',\n 'combat_zombie_extreme_hills_leather_armors_wooden_sword_shield',\n 'combat_zombie_extreme_hills_leather_armors_iron_sword_shield',\n 'combat_zombie_extreme_hills_leather_armors_diamond_sword_shield',\n 'combat_zombie_extreme_hills_iron_armors_wooden_sword_shield',\n 'combat_zombie_extreme_hills_iron_armors_iron_sword_shield',\n 'combat_zombie_extreme_hills_iron_armors_diamond_sword_shield',\n 'combat_zombie_extreme_hills_diamond_armors_wooden_sword_shield',\n 'combat_zombie_extreme_hills_diamond_armors_iron_sword_shield',\n 'combat_zombie_extreme_hills_diamond_armors_diamond_sword_shield',\n 'combat_spider_extreme_hills_leather_armors_wooden_sword_shield',\n 'combat_spider_extreme_hills_leather_armors_iron_sword_shield',\n 'combat_spider_extreme_hills_leather_armors_diamond_sword_shield',\n 'combat_spider_extreme_hills_iron_armors_wooden_sword_shield',\n 'combat_spider_extreme_hills_iron_armors_iron_sword_shield',\n 'combat_spider_extreme_hills_iron_armors_diamond_sword_shield',\n 'combat_spider_extreme_hills_diamond_armors_wooden_sword_shield',\n 'combat_spider_extreme_hills_diamond_armors_iron_sword_shield',\n 'combat_spider_extreme_hills_diamond_armors_diamond_sword_shield',\n 'combat_skeleton_extreme_hills_leather_armors_wooden_sword_shield',\n 'combat_skeleton_extreme_hills_leather_armors_iron_sword_shield',\n 'combat_skeleton_extreme_hills_leather_armors_diamond_sword_shield',\n 'combat_skeleton_extreme_hills_iron_armors_wooden_sword_shield',\n 'combat_skeleton_extreme_hills_iron_armors_iron_sword_shield',\n 'combat_skeleton_extreme_hills_iron_armors_diamond_sword_shield',\n 'combat_skeleton_extreme_hills_diamond_armors_wooden_sword_shield',\n 'combat_skeleton_extreme_hills_diamond_armors_iron_sword_shield',\n 'combat_skeleton_extreme_hills_diamond_armors_diamond_sword_shield',\n 'combat_creeper_extreme_hills_leather_armors_wooden_sword_shield',\n 'combat_creeper_extreme_hills_leather_armors_iron_sword_shield',\n 'combat_creeper_extreme_hills_leather_armors_diamond_sword_shield',\n 'combat_creeper_extreme_hills_iron_armors_wooden_sword_shield',\n 'combat_creeper_extreme_hills_iron_armors_iron_sword_shield',\n 'combat_creeper_extreme_hills_iron_armors_diamond_sword_shield',\n 'combat_creeper_extreme_hills_diamond_armors_wooden_sword_shield',\n 'combat_creeper_extreme_hills_diamond_armors_iron_sword_shield',\n 'combat_creeper_extreme_hills_diamond_armors_diamond_sword_shield',\n 'combat_witch_extreme_hills_leather_armors_wooden_sword_shield',\n 'combat_witch_extreme_hills_leather_armors_iron_sword_shield',\n 'combat_witch_extreme_hills_leather_armors_diamond_sword_shield',\n 'combat_witch_extreme_hills_iron_armors_wooden_sword_shield',\n 'combat_witch_extreme_hills_iron_armors_iron_sword_shield',\n 'combat_witch_extreme_hills_iron_armors_diamond_sword_shield',\n 'combat_witch_extreme_hills_diamond_armors_wooden_sword_shield',\n 'combat_witch_extreme_hills_diamond_armors_iron_sword_shield',\n 'combat_witch_extreme_hills_diamond_armors_diamond_sword_shield',\n 'combat_enderman_extreme_hills_leather_armors_wooden_sword_shield',\n 'combat_enderman_extreme_hills_leather_armors_iron_sword_shield',\n 'combat_enderman_extreme_hills_leather_armors_diamond_sword_shield',\n 'combat_enderman_extreme_hills_iron_armors_wooden_sword_shield',\n 'combat_enderman_extreme_hills_iron_armors_iron_sword_shield',\n 'combat_enderman_extreme_hills_iron_armors_diamond_sword_shield',\n 'combat_enderman_extreme_hills_diamond_armors_wooden_sword_shield',\n 'combat_enderman_extreme_hills_diamond_armors_iron_sword_shield',\n 'combat_enderman_extreme_hills_diamond_armors_diamond_sword_shield',\n 'combat_cow_forest_leather_armors_wooden_sword_shield',\n 'combat_pig_forest_leather_armors_wooden_sword_shield',\n 'combat_sheep_forest_leather_armors_wooden_sword_shield',\n 'combat_chicken_forest_leather_armors_wooden_sword_shield',\n 'combat_cow_forest_leather_armors_iron_sword_shield',\n 'combat_pig_forest_leather_armors_iron_sword_shield',\n 'combat_sheep_forest_leather_armors_iron_sword_shield',\n 'combat_chicken_forest_leather_armors_iron_sword_shield',\n 'combat_cow_forest_leather_armors_diamond_sword_shield',\n 'combat_pig_forest_leather_armors_diamond_sword_shield',\n 'combat_sheep_forest_leather_armors_diamond_sword_shield',\n 'combat_chicken_forest_leather_armors_diamond_sword_shield',\n 'combat_cow_forest_iron_armors_wooden_sword_shield',\n 'combat_pig_forest_iron_armors_wooden_sword_shield',\n 'combat_sheep_forest_iron_armors_wooden_sword_shield',\n 'combat_chicken_forest_iron_armors_wooden_sword_shield',\n 'combat_cow_forest_iron_armors_iron_sword_shield',\n 'combat_pig_forest_iron_armors_iron_sword_shield',\n 'combat_sheep_forest_iron_armors_iron_sword_shield',\n 'combat_chicken_forest_iron_armors_iron_sword_shield',\n 'combat_cow_forest_iron_armors_diamond_sword_shield',\n 'combat_pig_forest_iron_armors_diamond_sword_shield',\n 'combat_sheep_forest_iron_armors_diamond_sword_shield',\n 'combat_chicken_forest_iron_armors_diamond_sword_shield',\n 'combat_cow_forest_diamond_armors_wooden_sword_shield',\n 'combat_pig_forest_diamond_armors_wooden_sword_shield',\n 'combat_sheep_forest_diamond_armors_wooden_sword_shield',\n 'combat_chicken_forest_diamond_armors_wooden_sword_shield',\n 'combat_cow_forest_diamond_armors_iron_sword_shield',\n 'combat_pig_forest_diamond_armors_iron_sword_shield',\n 'combat_sheep_forest_diamond_armors_iron_sword_shield',\n 'combat_chicken_forest_diamond_armors_iron_sword_shield',\n 'combat_cow_forest_diamond_armors_diamond_sword_shield',\n 'combat_pig_forest_diamond_armors_diamond_sword_shield',\n 'combat_sheep_forest_diamond_armors_diamond_sword_shield',\n 'combat_chicken_forest_diamond_armors_diamond_sword_shield',\n 'combat_cow_plains_leather_armors_wooden_sword_shield',\n 'combat_pig_plains_leather_armors_wooden_sword_shield',\n 'combat_sheep_plains_leather_armors_wooden_sword_shield',\n 'combat_chicken_plains_leather_armors_wooden_sword_shield',\n 'combat_cow_plains_leather_armors_iron_sword_shield',\n 'combat_pig_plains_leather_armors_iron_sword_shield',\n 'combat_sheep_plains_leather_armors_iron_sword_shield',\n 'combat_chicken_plains_leather_armors_iron_sword_shield',\n 'combat_cow_plains_leather_armors_diamond_sword_shield',\n 'combat_pig_plains_leather_armors_diamond_sword_shield',\n 'combat_sheep_plains_leather_armors_diamond_sword_shield',\n 'combat_chicken_plains_leather_armors_diamond_sword_shield',\n 'combat_cow_plains_iron_armors_wooden_sword_shield',\n 'combat_pig_plains_iron_armors_wooden_sword_shield',\n 'combat_sheep_plains_iron_armors_wooden_sword_shield',\n 'combat_chicken_plains_iron_armors_wooden_sword_shield',\n 'combat_cow_plains_iron_armors_iron_sword_shield',\n 'combat_pig_plains_iron_armors_iron_sword_shield',\n 'combat_sheep_plains_iron_armors_iron_sword_shield',\n 'combat_chicken_plains_iron_armors_iron_sword_shield',\n 'combat_cow_plains_iron_armors_diamond_sword_shield',\n 'combat_pig_plains_iron_armors_diamond_sword_shield',\n 'combat_sheep_plains_iron_armors_diamond_sword_shield',\n 'combat_chicken_plains_iron_armors_diamond_sword_shield',\n 'combat_cow_plains_diamond_armors_wooden_sword_shield',\n 'combat_pig_plains_diamond_armors_wooden_sword_shield',\n 'combat_sheep_plains_diamond_armors_wooden_sword_shield',\n 'combat_chicken_plains_diamond_armors_wooden_sword_shield',\n 'combat_cow_plains_diamond_armors_iron_sword_shield',\n 'combat_pig_plains_diamond_armors_iron_sword_shield',\n 'combat_sheep_plains_diamond_armors_iron_sword_shield',\n 'combat_chicken_plains_diamond_armors_iron_sword_shield',\n 'combat_cow_plains_diamond_armors_diamond_sword_shield',\n 'combat_pig_plains_diamond_armors_diamond_sword_shield',\n 'combat_sheep_plains_diamond_armors_diamond_sword_shield',\n 'combat_chicken_plains_diamond_armors_diamond_sword_shield',\n 'combat_cow_extreme_hills_leather_armors_wooden_sword_shield',\n 'combat_pig_extreme_hills_leather_armors_wooden_sword_shield',\n 'combat_sheep_extreme_hills_leather_armors_wooden_sword_shield',\n 'combat_chicken_extreme_hills_leather_armors_wooden_sword_shield',\n 'combat_cow_extreme_hills_leather_armors_iron_sword_shield',\n 'combat_pig_extreme_hills_leather_armors_iron_sword_shield',\n 'combat_sheep_extreme_hills_leather_armors_iron_sword_shield',\n 'combat_chicken_extreme_hills_leather_armors_iron_sword_shield',\n 'combat_cow_extreme_hills_leather_armors_diamond_sword_shield',\n 'combat_pig_extreme_hills_leather_armors_diamond_sword_shield',\n 'combat_sheep_extreme_hills_leather_armors_diamond_sword_shield',\n 'combat_chicken_extreme_hills_leather_armors_diamond_sword_shield',\n 'combat_cow_extreme_hills_iron_armors_wooden_sword_shield',\n 'combat_pig_extreme_hills_iron_armors_wooden_sword_shield',\n 'combat_sheep_extreme_hills_iron_armors_wooden_sword_shield',\n 'combat_chicken_extreme_hills_iron_armors_wooden_sword_shield',\n 'combat_cow_extreme_hills_iron_armors_iron_sword_shield',\n 'combat_pig_extreme_hills_iron_armors_iron_sword_shield',\n 'combat_sheep_extreme_hills_iron_armors_iron_sword_shield',\n 'combat_chicken_extreme_hills_iron_armors_iron_sword_shield',\n 'combat_cow_extreme_hills_iron_armors_diamond_sword_shield',\n 'combat_pig_extreme_hills_iron_armors_diamond_sword_shield',\n 'combat_sheep_extreme_hills_iron_armors_diamond_sword_shield',\n 'combat_chicken_extreme_hills_iron_armors_diamond_sword_shield',\n 'combat_cow_extreme_hills_diamond_armors_wooden_sword_shield',\n 'combat_pig_extreme_hills_diamond_armors_wooden_sword_shield',\n 'combat_sheep_extreme_hills_diamond_armors_wooden_sword_shield',\n 'combat_chicken_extreme_hills_diamond_armors_wooden_sword_shield',\n 'combat_cow_extreme_hills_diamond_armors_iron_sword_shield',\n 'combat_pig_extreme_hills_diamond_armors_iron_sword_shield',\n 'combat_sheep_extreme_hills_diamond_armors_iron_sword_shield',\n 'combat_chicken_extreme_hills_diamond_armors_iron_sword_shield',\n 'combat_cow_extreme_hills_diamond_armors_diamond_sword_shield',\n 'combat_pig_extreme_hills_diamond_armors_diamond_sword_shield',\n 'combat_sheep_extreme_hills_diamond_armors_diamond_sword_shield',\n 'combat_chicken_extreme_hills_diamond_armors_diamond_sword_shield',\n 'combat_horse_plains_leather_armors_wooden_sword_shield',\n 'combat_donkey_plains_leather_armors_wooden_sword_shield',\n 'combat_horse_plains_iron_armors_wooden_sword_shield',\n 'combat_donkey_plains_iron_armors_wooden_sword_shield',\n 'combat_horse_plains_diamond_armors_wooden_sword_shield',\n 'combat_donkey_plains_diamond_armors_wooden_sword_shield',\n 'combat_horse_plains_leather_armors_iron_sword_shield',\n 'combat_donkey_plains_leather_armors_iron_sword_shield',\n 'combat_horse_plains_iron_armors_iron_sword_shield',\n 'combat_donkey_plains_iron_armors_iron_sword_shield',\n 'combat_horse_plains_diamond_armors_iron_sword_shield',\n 'combat_donkey_plains_diamond_armors_iron_sword_shield',\n 'combat_horse_plains_leather_armors_diamond_sword_shield',\n 'combat_donkey_plains_leather_armors_diamond_sword_shield',\n 'combat_horse_plains_iron_armors_diamond_sword_shield',\n 'combat_donkey_plains_iron_armors_diamond_sword_shield',\n 'combat_horse_plains_diamond_armors_diamond_sword_shield',\n 'combat_donkey_plains_diamond_armors_diamond_sword_shield',\n 'combat_guardian_ocean_leather_armors_wooden_sword_shield',\n 'combat_guardian_ocean_leather_armors_iron_sword_shield',\n 'combat_guardian_ocean_leather_armors_diamond_sword_shield',\n 'combat_guardian_ocean_iron_armors_wooden_sword_shield',\n 'combat_guardian_ocean_iron_armors_iron_sword_shield',\n 'combat_guardian_ocean_iron_armors_diamond_sword_shield',\n 'combat_guardian_ocean_diamond_armors_wooden_sword_shield',\n 'combat_guardian_ocean_diamond_armors_iron_sword_shield',\n 'combat_guardian_ocean_diamond_armors_diamond_sword_shield',\n 'combat_squid_ocean_leather_armors_wooden_sword_shield',\n 'combat_squid_ocean_leather_armors_iron_sword_shield',\n 'combat_squid_ocean_leather_armors_diamond_sword_shield',\n 'combat_squid_ocean_iron_armors_wooden_sword_shield',\n 'combat_squid_ocean_iron_armors_iron_sword_shield',\n 'combat_squid_ocean_iron_armors_diamond_sword_shield',\n 'combat_squid_ocean_diamond_armors_wooden_sword_shield',\n 'combat_squid_ocean_diamond_armors_iron_sword_shield',\n 'combat_squid_ocean_diamond_armors_diamond_sword_shield',\n 'combat_rabbit_desert_leather_armors_wooden_sword_shield',\n 'combat_rabbit_desert_leather_armors_iron_sword_shield',\n 'combat_rabbit_desert_leather_armors_diamond_sword_shield',\n 'combat_rabbit_desert_iron_armors_wooden_sword_shield',\n 'combat_rabbit_desert_iron_armors_iron_sword_shield',\n 'combat_rabbit_desert_iron_armors_diamond_sword_shield',\n 'combat_rabbit_desert_diamond_armors_wooden_sword_shield',\n 'combat_rabbit_desert_diamond_armors_iron_sword_shield',\n 'combat_rabbit_desert_diamond_armors_diamond_sword_shield',\n 'combat_mooshroom_mushroom_island_leather_armors_wooden_sword_shield',\n 'combat_mooshroom_mushroom_island_leather_armors_iron_sword_shield',\n 'combat_mooshroom_mushroom_island_leather_armors_diamond_sword_shield',\n 'combat_mooshroom_mushroom_island_iron_armors_wooden_sword_shield',\n 'combat_mooshroom_mushroom_island_iron_armors_iron_sword_shield',\n 'combat_mooshroom_mushroom_island_iron_armors_diamond_sword_shield',\n 'combat_mooshroom_mushroom_island_diamond_armors_wooden_sword_shield',\n 'combat_mooshroom_mushroom_island_diamond_armors_iron_sword_shield',\n 'combat_mooshroom_mushroom_island_diamond_armors_diamond_sword_shield',\n 'combat_llama_extreme_hills_leather_armors_wooden_sword_shield',\n 'combat_llama_extreme_hills_leather_armors_iron_sword_shield',\n 'combat_llama_extreme_hills_leather_armors_diamond_sword_shield',\n 'combat_llama_extreme_hills_iron_armors_wooden_sword_shield',\n 'combat_llama_extreme_hills_iron_armors_iron_sword_shield',\n 'combat_llama_extreme_hills_iron_armors_diamond_sword_shield',\n 'combat_llama_extreme_hills_diamond_armors_wooden_sword_shield',\n 'combat_llama_extreme_hills_diamond_armors_iron_sword_shield',\n 'combat_llama_extreme_hills_diamond_armors_diamond_sword_shield',\n 'combat_wolf_taiga_leather_armors_wooden_sword_shield',\n 'combat_wolf_taiga_leather_armors_iron_sword_shield',\n 'combat_wolf_taiga_leather_armors_diamond_sword_shield',\n 'combat_wolf_taiga_iron_armors_wooden_sword_shield',\n 'combat_wolf_taiga_iron_armors_iron_sword_shield',\n 'combat_wolf_taiga_iron_armors_diamond_sword_shield',\n 'combat_wolf_taiga_diamond_armors_wooden_sword_shield',\n 'combat_wolf_taiga_diamond_armors_iron_sword_shield',\n 'combat_wolf_taiga_diamond_armors_diamond_sword_shield',\n 'combat_bat_forest_barehand',\n 'combat_bat_plains_barehand',\n 'combat_bat_extreme_hills_barehand',\n 'combat_cow_forest_barehand',\n 'combat_pig_forest_barehand',\n 'combat_sheep_forest_barehand',\n 'combat_chicken_forest_barehand',\n 'combat_cow_plains_barehand',\n 'combat_pig_plains_barehand',\n 'combat_sheep_plains_barehand',\n 'combat_chicken_plains_barehand',\n 'combat_cow_extreme_hills_barehand',\n 'combat_pig_extreme_hills_barehand',\n 'combat_sheep_extreme_hills_barehand',\n 'combat_chicken_extreme_hills_barehand',\n 'combat_horse_plains_barehand',\n 'combat_donkey_plains_barehand',\n 'combat_squid_ocean_barehand',\n 'combat_rabbit_desert_barehand',\n 'combat_mooshroom_mushroom_island_barehand',\n 'combat_llama_extreme_hills_barehand',\n 'harvest_wool',\n 'harvest_wool_with_sheep',\n 'harvest_wool_with_shears',\n 'harvest_wool_with_shears_and_sheep',\n 'harvest_wool_plains',\n 'harvest_wool_extreme_hills',\n 'harvest_wool_forest',\n 'harvest_wool_plains_with_shears',\n 'harvest_wool_extreme_hills_with_shears',\n 'harvest_wool_forest_with_shears',\n 'harvest_log_with_diamond_axe',\n 'harvest_milk',\n 'harvest_milk_with_cow',\n 'harvest_milk_with_empty_bucket',\n 'harvest_milk_with_empty_bucket_and_cow',\n 'harvest_milk_plains',\n 'harvest_milk_extreme_hills',\n 'harvest_milk_forest',\n 'harvest_milk_plains_with_an_empty_bucket',\n 'harvest_milk_extreme_hills_with_an_empty_bucket',\n 'harvest_milk_forest_with_an_empty_bucket',\n 'harvest_1_obsidian',\n 'harvest_8_obsidian',\n 'harvest_1_obsidian_with_diamond_pickaxe',\n 'harvest_8_obsidian_with_diamond_pickaxe',\n 'harvest_1_obsidian_with_water_bucket',\n 'harvest_8_obsidian_with_water_bucket',\n 'harvest_1_obsidian_with_diamond_pickaxe_and_water_bucket',\n 'harvest_8_obsidian_with_diamond_pickaxe_and_water_bucket',\n 'harvest_1_iron_ore',\n 'harvest_1_gold_ore',\n 'harvest_1_diamond',\n 'harvest_1_redstone',\n 'harvest_1_coal',\n 'harvest_1_cobblestone',\n 'harvest_8_iron_ore',\n 'harvest_8_gold_ore',\n 'harvest_8_diamond',\n 'harvest_8_redstone',\n 'harvest_8_coal',\n 'harvest_8_cobblestone',\n 'harvest_1_iron_ore_with_wooden_pickaxe',\n 'harvest_1_gold_ore_with_wooden_pickaxe',\n 'harvest_1_diamond_with_wooden_pickaxe',\n 'harvest_1_redstone_with_wooden_pickaxe',\n 'harvest_1_coal_with_wooden_pickaxe',\n 'harvest_1_cobblestone_with_wooden_pickaxe',\n 'harvest_8_iron_ore_with_wooden_pickaxe',\n 'harvest_8_gold_ore_with_wooden_pickaxe',\n 'harvest_8_diamond_with_wooden_pickaxe',\n 'harvest_8_redstone_with_wooden_pickaxe',\n 'harvest_8_coal_with_wooden_pickaxe',\n 'harvest_8_cobblestone_with_wooden_pickaxe',\n 'harvest_1_iron_ore_with_stone_pickaxe',\n 'harvest_1_gold_ore_with_stone_pickaxe',\n 'harvest_1_diamond_with_stone_pickaxe',\n 'harvest_1_redstone_with_stone_pickaxe',\n 'harvest_1_coal_with_stone_pickaxe',\n 'harvest_1_cobblestone_with_stone_pickaxe',\n 'harvest_8_iron_ore_with_stone_pickaxe',\n 'harvest_8_gold_ore_with_stone_pickaxe',\n 'harvest_8_diamond_with_stone_pickaxe',\n 'harvest_8_redstone_with_stone_pickaxe',\n 'harvest_8_coal_with_stone_pickaxe',\n 'harvest_8_cobblestone_with_stone_pickaxe',\n 'harvest_1_iron_ore_with_iron_pickaxe',\n 'harvest_1_gold_ore_with_iron_pickaxe',\n 'harvest_1_diamond_with_iron_pickaxe',\n 'harvest_1_redstone_with_iron_pickaxe',\n 'harvest_1_coal_with_iron_pickaxe',\n 'harvest_1_cobblestone_with_iron_pickaxe',\n 'harvest_8_iron_ore_with_iron_pickaxe',\n 'harvest_8_gold_ore_with_iron_pickaxe',\n 'harvest_8_diamond_with_iron_pickaxe',\n 'harvest_8_redstone_with_iron_pickaxe',\n 'harvest_8_coal_with_iron_pickaxe',\n 'harvest_8_cobblestone_with_iron_pickaxe',\n 'harvest_1_iron_ore_with_golden_pickaxe',\n 'harvest_1_gold_ore_with_golden_pickaxe',\n 'harvest_1_diamond_with_golden_pickaxe',\n 'harvest_1_redstone_with_golden_pickaxe',\n 'harvest_1_coal_with_golden_pickaxe',\n 'harvest_1_cobblestone_with_golden_pickaxe',\n 'harvest_8_iron_ore_with_golden_pickaxe',\n 'harvest_8_gold_ore_with_golden_pickaxe',\n 'harvest_8_diamond_with_golden_pickaxe',\n 'harvest_8_redstone_with_golden_pickaxe',\n 'harvest_8_coal_with_golden_pickaxe',\n 'harvest_8_cobblestone_with_golden_pickaxe',\n 'harvest_1_iron_ore_with_diamond_pickaxe',\n 'harvest_1_gold_ore_with_diamond_pickaxe',\n 'harvest_1_diamond_with_diamond_pickaxe',\n 'harvest_1_redstone_with_diamond_pickaxe',\n 'harvest_1_coal_with_diamond_pickaxe',\n 'harvest_1_cobblestone_with_diamond_pickaxe',\n 'harvest_8_iron_ore_with_diamond_pickaxe',\n 'harvest_8_gold_ore_with_diamond_pickaxe',\n 'harvest_8_diamond_with_diamond_pickaxe',\n 'harvest_8_redstone_with_diamond_pickaxe',\n 'harvest_8_coal_with_diamond_pickaxe',\n 'harvest_8_cobblestone_with_diamond_pickaxe',\n 'harvest_1_nether_star',\n 'harvest_8_nether_star',\n 'harvest_1_blaze_rod',\n 'harvest_8_blaze_rod',\n 'harvest_1_ghast_tear',\n 'harvest_8_ghast_tear',\n 'harvest_1_nether_wart',\n 'harvest_8_nether_wart',\n 'harvest_1_netherrack',\n 'harvest_8_netherrack',\n 'harvest_1_soul_sand',\n 'harvest_8_soul_sand',\n 'harvest_1_chorus_flower',\n 'harvest_8_chorus_flower',\n 'harvest_1_chorus_fruit',\n 'harvest_8_chorus_fruit',\n 'harvest_1_chorus_plant',\n 'harvest_8_chorus_plant',\n 'harvest_1_elytra',\n 'harvest_8_elytra',\n 'harvest_1_end_stone',\n 'harvest_8_end_stone',\n 'harvest_1_ender_pearl',\n 'harvest_8_ender_pearl',\n 'harvest_1_apple',\n 'harvest_8_apple',\n 'harvest_1_beef',\n 'harvest_8_beef',\n 'harvest_1_beetroot',\n 'harvest_8_beetroot',\n 'harvest_1_beetroot_seeds',\n 'harvest_8_beetroot_seeds',\n 'harvest_1_bone',\n 'harvest_8_bone',\n 'harvest_1_brown_mushroom',\n 'harvest_8_brown_mushroom',\n 'harvest_1_cactus',\n 'harvest_8_cactus',\n 'harvest_1_carrot',\n 'harvest_8_carrot',\n 'harvest_1_chicken',\n 'harvest_8_chicken',\n 'harvest_1_dirt',\n 'harvest_8_dirt',\n 'harvest_1_egg',\n 'harvest_8_egg',\n 'harvest_1_feather',\n 'harvest_8_feather',\n 'harvest_1_fish',\n 'harvest_8_fish',\n 'harvest_1_grass',\n 'harvest_8_grass',\n 'harvest_1_leaves',\n 'harvest_8_leaves',\n 'harvest_1_log',\n 'harvest_8_log',\n 'harvest_1_monster_egg',\n 'harvest_8_monster_egg',\n 'harvest_1_mutton',\n 'harvest_8_mutton',\n 'harvest_1_porkchop',\n 'harvest_8_porkchop',\n 'harvest_1_potato',\n 'harvest_8_potato',\n 'harvest_1_prismarine_shard',\n 'harvest_8_prismarine_shard',\n 'harvest_1_pumpkin',\n 'harvest_8_pumpkin',\n 'harvest_1_rabbit',\n 'harvest_8_rabbit',\n 'harvest_1_red_mushroom',\n 'harvest_8_red_mushroom',\n 'harvest_1_reeds',\n 'harvest_8_reeds',\n 'harvest_1_sapling',\n 'harvest_8_sapling',\n 'harvest_1_skull',\n 'harvest_8_skull',\n 'harvest_1_snowball',\n 'harvest_8_snowball',\n 'harvest_1_spawn_egg',\n 'harvest_8_spawn_egg',\n 'harvest_1_sponge',\n 'harvest_8_sponge',\n 'harvest_1_string',\n 'harvest_8_string',\n 'harvest_1_totem_of_undying',\n 'harvest_8_totem_of_undying',\n 'harvest_1_vine',\n 'harvest_8_vine',\n 'harvest_1_web',\n 'harvest_8_web',\n 'harvest_1_wheat_seeds',\n 'harvest_8_wheat_seeds',\n 'harvest_1_wheat',\n 'harvest_8_wheat',\n 'harvest_1_book',\n 'harvest_8_book',\n 'harvest_1_carrot_on_a_stick',\n 'harvest_8_carrot_on_a_stick',\n 'harvest_1_clay',\n 'harvest_8_clay',\n 'harvest_1_crafting_table',\n 'harvest_8_crafting_table',\n 'harvest_1_dye',\n 'harvest_8_dye',\n 'harvest_1_end_bricks',\n 'harvest_8_end_bricks',\n 'harvest_1_end_rod',\n 'harvest_8_end_rod',\n 'harvest_1_ender_eye',\n 'harvest_8_ender_eye',\n 'harvest_1_flint_and_steel',\n 'harvest_8_flint_and_steel',\n 'harvest_1_glowstone',\n 'harvest_8_glowstone',\n 'harvest_1_gold_nugget',\n 'harvest_8_gold_nugget',\n 'harvest_1_iron_nugget',\n 'harvest_8_iron_nugget',\n 'harvest_1_iron_trapdoor',\n 'harvest_8_iron_trapdoor',\n 'harvest_1_lever',\n 'harvest_8_lever',\n 'harvest_1_nether_brick',\n 'harvest_8_nether_brick',\n 'harvest_1_planks',\n 'harvest_8_planks',\n 'harvest_1_pumpkin_seeds',\n 'harvest_8_pumpkin_seeds',\n 'harvest_1_red_nether_brick',\n 'harvest_8_red_nether_brick',\n 'harvest_1_sandstone',\n 'harvest_8_sandstone',\n 'harvest_1_shears',\n 'harvest_8_shears',\n 'harvest_1_slime_ball',\n 'harvest_8_slime_ball',\n 'harvest_1_stick',\n 'harvest_8_stick',\n 'harvest_1_stone_button',\n 'harvest_8_stone_button',\n 'harvest_1_stonebrick',\n 'harvest_8_stonebrick',\n 'harvest_1_sugar',\n 'harvest_8_sugar',\n 'harvest_1_torch',\n 'harvest_8_torch',\n 'harvest_1_trapped_chest',\n 'harvest_8_trapped_chest',\n 'harvest_1_wooden_button',\n 'harvest_8_wooden_button',\n 'harvest_1_wool',\n 'harvest_8_wool',\n 'harvest_1_stone_pressure_plate',\n 'harvest_8_stone_pressure_plate',\n 'harvest_1_anvil',\n 'harvest_1_arrow',\n 'harvest_1_banner',\n 'harvest_1_beacon',\n 'harvest_1_bed',\n 'harvest_1_beetroot_soup',\n 'harvest_1_boat',\n 'harvest_1_bookshelf',\n 'harvest_1_bowl',\n 'harvest_1_bread',\n 'harvest_1_bucket',\n 'harvest_1_cake',\n 'harvest_1_cauldron',\n 'harvest_1_chest',\n 'harvest_1_cookie',\n 'harvest_1_end_crystal',\n 'harvest_1_ender_chest',\n 'harvest_1_fence',\n 'harvest_1_fence_gate',\n 'harvest_1_fire_charge',\n 'harvest_1_fishing_rod',\n 'harvest_1_flower_pot',\n 'harvest_1_furnace',\n 'harvest_1_glass_bottle',\n 'harvest_1_glass_pane',\n 'harvest_1_golden_apple',\n 'harvest_1_hopper',\n 'harvest_1_iron_bars',\n 'harvest_1_ladder',\n 'harvest_1_lead',\n 'harvest_1_map',\n 'harvest_1_minecart',\n 'harvest_1_mushroom_stew',\n 'harvest_1_painting',\n 'harvest_1_paper',\n 'harvest_1_pumpkin_pie',\n 'harvest_1_rabbit_stew',\n 'harvest_1_rail',\n 'harvest_1_sea_lantern',\n 'harvest_1_shield',\n 'harvest_1_sign',\n 'harvest_1_speckled_melon',\n 'harvest_1_stone_slab',\n 'harvest_1_trapdoor',\n 'harvest_1_tripwire_hook',\n 'harvest_1_wooden_door',\n 'harvest_1_writable_book',\n 'harvest_8_anvil',\n 'harvest_8_arrow',\n 'harvest_8_banner',\n 'harvest_8_beacon',\n 'harvest_8_bed',\n 'harvest_8_beetroot_soup',\n 'harvest_8_boat',\n 'harvest_8_bookshelf',\n 'harvest_8_bowl',\n 'harvest_8_bread',\n 'harvest_8_bucket',\n 'harvest_8_cake',\n 'harvest_8_cauldron',\n 'harvest_8_chest',\n 'harvest_8_cookie',\n 'harvest_8_end_crystal',\n 'harvest_8_ender_chest',\n 'harvest_8_fence',\n 'harvest_8_fence_gate',\n 'harvest_8_fire_charge',\n 'harvest_8_fishing_rod',\n 'harvest_8_flower_pot',\n 'harvest_8_furnace',\n 'harvest_8_glass_bottle',\n 'harvest_8_glass_pane',\n 'harvest_8_golden_apple',\n 'harvest_8_hopper',\n 'harvest_8_iron_bars',\n 'harvest_8_ladder',\n 'harvest_8_lead',\n 'harvest_8_map',\n 'harvest_8_minecart',\n 'harvest_8_mushroom_stew',\n 'harvest_8_painting',\n 'harvest_8_paper',\n 'harvest_8_pumpkin_pie',\n 'harvest_8_rabbit_stew',\n 'harvest_8_rail',\n 'harvest_8_sea_lantern',\n 'harvest_8_shield',\n 'harvest_8_sign',\n 'harvest_8_speckled_melon',\n 'harvest_8_stone_slab',\n 'harvest_8_trapdoor',\n 'harvest_8_tripwire_hook',\n 'harvest_8_wooden_door',\n 'harvest_8_writable_book',\n 'harvest_1_anvil_with_crafting_table',\n 'harvest_1_arrow_with_crafting_table',\n 'harvest_1_banner_with_crafting_table',\n 'harvest_1_beacon_with_crafting_table',\n 'harvest_1_bed_with_crafting_table',\n 'harvest_1_beetroot_soup_with_crafting_table',\n 'harvest_1_boat_with_crafting_table',\n 'harvest_1_bookshelf_with_crafting_table',\n 'harvest_1_bowl_with_crafting_table',\n 'harvest_1_bread_with_crafting_table',\n 'harvest_1_bucket_with_crafting_table',\n 'harvest_1_cake_with_crafting_table',\n 'harvest_1_cauldron_with_crafting_table',\n 'harvest_1_chest_with_crafting_table',\n 'harvest_1_cookie_with_crafting_table',\n 'harvest_1_end_crystal_with_crafting_table',\n 'harvest_1_ender_chest_with_crafting_table',\n 'harvest_1_fence_with_crafting_table',\n 'harvest_1_fence_gate_with_crafting_table',\n 'harvest_1_fire_charge_with_crafting_table',\n 'harvest_1_fishing_rod_with_crafting_table',\n 'harvest_1_flower_pot_with_crafting_table',\n 'harvest_1_furnace_with_crafting_table',\n 'harvest_1_glass_bottle_with_crafting_table',\n 'harvest_1_glass_pane_with_crafting_table',\n 'harvest_1_golden_apple_with_crafting_table',\n 'harvest_1_hopper_with_crafting_table',\n 'harvest_1_iron_bars_with_crafting_table',\n 'harvest_1_ladder_with_crafting_table',\n 'harvest_1_lead_with_crafting_table',\n 'harvest_1_map_with_crafting_table',\n 'harvest_1_minecart_with_crafting_table',\n 'harvest_1_mushroom_stew_with_crafting_table',\n 'harvest_1_painting_with_crafting_table',\n 'harvest_1_paper_with_crafting_table',\n 'harvest_1_pumpkin_pie_with_crafting_table',\n 'harvest_1_rabbit_stew_with_crafting_table',\n 'harvest_1_rail_with_crafting_table',\n 'harvest_1_sea_lantern_with_crafting_table',\n 'harvest_1_shield_with_crafting_table',\n 'harvest_1_sign_with_crafting_table',\n 'harvest_1_speckled_melon_with_crafting_table',\n 'harvest_1_stone_slab_with_crafting_table',\n 'harvest_1_trapdoor_with_crafting_table',\n 'harvest_1_tripwire_hook_with_crafting_table',\n 'harvest_1_wooden_door_with_crafting_table',\n 'harvest_1_writable_book_with_crafting_table',\n 'harvest_8_anvil_with_crafting_table',\n 'harvest_8_arrow_with_crafting_table',\n 'harvest_8_banner_with_crafting_table',\n 'harvest_8_beacon_with_crafting_table',\n 'harvest_8_bed_with_crafting_table',\n 'harvest_8_beetroot_soup_with_crafting_table',\n 'harvest_8_boat_with_crafting_table',\n 'harvest_8_bookshelf_with_crafting_table',\n 'harvest_8_bowl_with_crafting_table',\n 'harvest_8_bread_with_crafting_table',\n 'harvest_8_bucket_with_crafting_table',\n 'harvest_8_cake_with_crafting_table',\n 'harvest_8_cauldron_with_crafting_table',\n 'harvest_8_chest_with_crafting_table',\n 'harvest_8_cookie_with_crafting_table',\n 'harvest_8_end_crystal_with_crafting_table',\n 'harvest_8_ender_chest_with_crafting_table',\n 'harvest_8_fence_with_crafting_table',\n 'harvest_8_fence_gate_with_crafting_table',\n 'harvest_8_fire_charge_with_crafting_table',\n 'harvest_8_fishing_rod_with_crafting_table',\n 'harvest_8_flower_pot_with_crafting_table',\n 'harvest_8_furnace_with_crafting_table',\n 'harvest_8_glass_bottle_with_crafting_table',\n 'harvest_8_glass_pane_with_crafting_table',\n 'harvest_8_golden_apple_with_crafting_table',\n 'harvest_8_hopper_with_crafting_table',\n 'harvest_8_iron_bars_with_crafting_table',\n 'harvest_8_ladder_with_crafting_table',\n 'harvest_8_lead_with_crafting_table',\n 'harvest_8_map_with_crafting_table',\n 'harvest_8_minecart_with_crafting_table',\n 'harvest_8_mushroom_stew_with_crafting_table',\n 'harvest_8_painting_with_crafting_table',\n 'harvest_8_paper_with_crafting_table',\n 'harvest_8_pumpkin_pie_with_crafting_table',\n 'harvest_8_rabbit_stew_with_crafting_table',\n 'harvest_8_rail_with_crafting_table',\n 'harvest_8_sea_lantern_with_crafting_table',\n 'harvest_8_shield_with_crafting_table',\n 'harvest_8_sign_with_crafting_table',\n 'harvest_8_speckled_melon_with_crafting_table',\n 'harvest_8_stone_slab_with_crafting_table',\n 'harvest_8_trapdoor_with_crafting_table',\n 'harvest_8_tripwire_hook_with_crafting_table',\n 'harvest_8_wooden_door_with_crafting_table',\n 'harvest_8_writable_book_with_crafting_table',\n 'harvest_1_baked_potato',\n 'harvest_8_baked_potato',\n 'harvest_1_brick',\n 'harvest_8_brick',\n 'harvest_1_cooked_beef',\n 'harvest_8_cooked_beef',\n 'harvest_1_cooked_chicken',\n 'harvest_8_cooked_chicken',\n 'harvest_1_cooked_fish',\n 'harvest_8_cooked_fish',\n 'harvest_1_cooked_mutton',\n 'harvest_8_cooked_mutton',\n 'harvest_1_cooked_porkchop',\n 'harvest_8_cooked_porkchop',\n 'harvest_1_cooked_rabbit',\n 'harvest_8_cooked_rabbit',\n 'harvest_1_glass',\n 'harvest_8_glass',\n 'harvest_1_gold_ingot',\n 'harvest_8_gold_ingot',\n 'harvest_1_iron_ingot',\n 'harvest_8_iron_ingot',\n 'harvest_1_quartz',\n 'harvest_8_quartz',\n 'harvest_1_stone',\n 'harvest_8_stone',\n 'harvest_1_emerald',\n 'harvest_8_emerald',\n 'harvest_1_netherbrick',\n 'harvest_8_netherbrick',\n 'harvest_1_baked_potato_with_furnace_and_fuel',\n 'harvest_8_baked_potato_with_furnace_and_fuel',\n 'harvest_1_brick_with_furnace_and_fuel',\n 'harvest_8_brick_with_furnace_and_fuel',\n 'harvest_1_cooked_beef_with_furnace_and_fuel',\n 'harvest_8_cooked_beef_with_furnace_and_fuel',\n 'harvest_1_cooked_chicken_with_furnace_and_fuel',\n 'harvest_8_cooked_chicken_with_furnace_and_fuel',\n 'harvest_1_cooked_fish_with_furnace_and_fuel',\n 'harvest_8_cooked_fish_with_furnace_and_fuel',\n 'harvest_1_cooked_mutton_with_furnace_and_fuel',\n 'harvest_8_cooked_mutton_with_furnace_and_fuel',\n 'harvest_1_cooked_porkchop_with_furnace_and_fuel',\n 'harvest_8_cooked_porkchop_with_furnace_and_fuel',\n 'harvest_1_cooked_rabbit_with_furnace_and_fuel',\n 'harvest_8_cooked_rabbit_with_furnace_and_fuel',\n 'harvest_1_glass_with_furnace_and_fuel',\n 'harvest_8_glass_with_furnace_and_fuel',\n 'harvest_1_gold_ingot_with_furnace_and_fuel',\n 'harvest_8_gold_ingot_with_furnace_and_fuel',\n 'harvest_1_iron_ingot_with_furnace_and_fuel',\n 'harvest_8_iron_ingot_with_furnace_and_fuel',\n 'harvest_1_quartz_with_furnace_and_fuel',\n 'harvest_8_quartz_with_furnace_and_fuel',\n 'harvest_1_stone_with_furnace_and_fuel',\n 'harvest_8_stone_with_furnace_and_fuel',\n 'harvest_1_emerald_with_furnace_and_fuel',\n 'harvest_8_emerald_with_furnace_and_fuel',\n 'harvest_1_netherbrick_with_furnace_and_fuel',\n 'harvest_8_netherbrick_with_furnace_and_fuel',\n 'harvest_1_apple_plains',\n 'harvest_1_apple_jungle',\n 'harvest_1_apple_taiga',\n 'harvest_1_apple_forest',\n 'harvest_1_apple_swampland',\n 'harvest_1_beef_plains',\n 'harvest_1_beef_jungle',\n 'harvest_1_beef_taiga',\n 'harvest_1_beef_forest',\n 'harvest_1_beef_swampland',\n 'harvest_1_bone_plains',\n 'harvest_1_bone_jungle',\n 'harvest_1_bone_taiga',\n 'harvest_1_bone_forest',\n 'harvest_1_bone_swampland',\n 'harvest_1_chicken_plains',\n 'harvest_1_chicken_jungle',\n 'harvest_1_chicken_taiga',\n 'harvest_1_chicken_forest',\n 'harvest_1_chicken_swampland',\n 'harvest_1_log_plains',\n 'harvest_1_log_jungle',\n 'harvest_1_log_taiga',\n 'harvest_1_log_forest',\n 'harvest_1_log_swampland',\n 'harvest_1_reeds_plains',\n 'harvest_1_reeds_jungle',\n 'harvest_1_reeds_taiga',\n 'harvest_1_reeds_forest',\n 'harvest_1_reeds_swampland',\n 'harvest_1_web_plains',\n 'harvest_1_web_jungle',\n 'harvest_1_web_taiga',\n ...]"
     },
     "execution_count": 5,
     "metadata": {},
     "output_type": "execute_result"
    }
   ],
   "source": [
    "minedojo.tasks.ALL_PROGRAMMATIC_TASK_IDS"
   ],
   "metadata": {
    "collapsed": false
   }
  },
  {
   "cell_type": "code",
   "execution_count": 6,
   "outputs": [
    {
     "name": "stderr",
     "output_type": "stream",
     "text": [
      "<__array_function__ internals>:200: RuntimeWarning: invalid value encountered in cast\n"
     ]
    }
   ],
   "source": [
    "IMAGE_SIZE = (160,256)\n",
    "env = minedojo.make(\"harvest_wool_with_shears_and_sheep\", image_size=(160, 256) )\n",
    "env.task_prompt"
   ],
   "metadata": {
    "collapsed": false
   }
  },
  {
   "cell_type": "code",
   "execution_count": 7,
   "outputs": [],
   "source": [
    "#https://docs.minedojo.org/sections/core_api/action_space.html\n",
    "act_space = env.action_space"
   ],
   "metadata": {
    "collapsed": false
   }
  },
  {
   "cell_type": "code",
   "execution_count": 8,
   "outputs": [],
   "source": [
    "obs_space = env.observation_space"
   ],
   "metadata": {
    "collapsed": false
   }
  },
  {
   "cell_type": "code",
   "execution_count": 9,
   "outputs": [
    {
     "data": {
      "text/plain": "{'acacia door': 0,\n 'acacia fence': 1,\n 'acacia fence gate': 2,\n 'acacia stairs': 3,\n 'activator rails': 4,\n 'air': 5,\n 'anvil': 6,\n 'slightly damaged anvil': 7,\n 'very damaged anvil': 8,\n 'apple': 9,\n 'armor stand': 10,\n 'arrow': 11,\n 'baked potato': 12,\n 'black banner': 13,\n 'red banner': 14,\n 'green banner': 15,\n 'brown banner': 16,\n 'blue banner': 17,\n 'purple banner': 18,\n 'cyan banner': 19,\n 'light gray banner': 20,\n 'gray banner': 21,\n 'pink banner': 22,\n 'lime banner': 23,\n 'yellow banner': 24,\n 'light blue banner': 25,\n 'magenta banner': 26,\n 'orange banner': 27,\n 'white banner': 28,\n 'barrier': 29,\n 'beacon': 30,\n 'red bed': 31,\n 'bedrock': 32,\n 'raw beef': 33,\n 'beetroot': 34,\n 'beetroot seeds': 35,\n 'beetroot soup': 36,\n 'birch boat': 37,\n 'birch door': 38,\n 'birch fence': 39,\n 'birch fence gate': 40,\n 'birch stairs': 41,\n 'black shulker box': 42,\n 'blaze powder': 43,\n 'blaze rod': 44,\n 'blue shulker box': 45,\n 'oak boat': 46,\n 'bone': 47,\n 'bone block': 48,\n 'book': 49,\n 'bookshelf': 50,\n 'bow': 51,\n 'bowl': 52,\n 'bread': 53,\n 'brewing stand': 54,\n 'brick': 55,\n 'bricks': 56,\n 'brick stairs': 57,\n 'brown mushroom': 58,\n 'brown mushroom block': 59,\n 'brown shulker box': 60,\n 'bucket': 61,\n 'cactus': 62,\n 'cake': 63,\n 'white carpet': 64,\n 'orange carpet': 65,\n 'magenta carpet': 66,\n 'light blue carpet': 67,\n 'yellow carpet': 68,\n 'lime carpet': 69,\n 'pink carpet': 70,\n 'gray carpet': 71,\n 'light gray carpet': 72,\n 'cyan carpet': 73,\n 'purple carpet': 74,\n 'blue carpet': 75,\n 'brown carpet': 76,\n 'green carpet': 77,\n 'red carpet': 78,\n 'black carpet': 79,\n 'carrot': 80,\n 'carrot on a stick': 81,\n 'cauldron': 82,\n 'chain command block': 83,\n 'chain boots': 84,\n 'chain chestplate': 85,\n 'chain helmet': 86,\n 'chain leggings': 87,\n 'chest': 88,\n 'minecart with chest': 89,\n 'raw chicken': 90,\n 'chorus flower': 91,\n 'chorus fruit': 92,\n 'popped chorus fruit': 93,\n 'chorus plant': 94,\n 'clay block': 95,\n 'clay ball': 96,\n 'clock': 97,\n 'coal': 98,\n 'charcoal': 99,\n 'coal block': 100,\n 'coal ore': 101,\n 'cobblestone': 102,\n 'cobblestone wall': 103,\n 'mossy cobblestone wall': 104,\n 'command block': 105,\n 'minecart with command block': 106,\n 'redstone comparator': 107,\n 'compass': 108,\n 'steak': 109,\n 'cooked chicken': 110,\n 'cooked fish': 111,\n 'cooked salmon': 112,\n 'cooked mutton': 113,\n 'cooked porkchop': 114,\n 'cooked rabbit': 115,\n 'cookie': 116,\n 'crafting table': 117,\n 'cyan shulker box': 118,\n 'dark oak boat': 119,\n 'dark oak door': 120,\n 'dark oak fence': 121,\n 'dark oak fence gate': 122,\n 'dark oak stairs': 123,\n 'daylight detector': 124,\n 'dead bush': 125,\n 'detector rails': 126,\n 'diamond': 127,\n 'diamond axe': 128,\n 'block of diamond': 129,\n 'diamond boots': 130,\n 'diamond chestplate': 131,\n 'diamond helmet': 132,\n 'diamond hoe': 133,\n 'diamond horse armor': 134,\n 'diamond leggings': 135,\n 'diamond ore': 136,\n 'diamond pickaxe': 137,\n 'diamond shovel': 138,\n 'diamond sword': 139,\n 'dirt': 140,\n 'coarse dirt': 141,\n 'podzol': 142,\n 'dispenser': 143,\n 'sunflower': 144,\n 'lilac': 145,\n 'tall grass': 146,\n 'large fern': 147,\n 'rose bush': 148,\n 'peony': 149,\n \"dragon's breath\": 150,\n 'dragon egg': 151,\n 'dropper': 152,\n 'ink sac': 153,\n 'red dye': 154,\n 'green dye': 155,\n 'cocoa beans': 156,\n 'lapis lazuli': 157,\n 'purple dye': 158,\n 'cyan dye': 159,\n 'light gray dye': 160,\n 'gray dye': 161,\n 'pink dye': 162,\n 'lime dye': 163,\n 'yellow dye': 164,\n 'light blue dye': 165,\n 'magenta dye': 166,\n 'orange dye': 167,\n 'bone meal': 168,\n 'egg': 169,\n 'elytra': 170,\n 'emerald': 171,\n 'block of emerald': 172,\n 'emerald ore': 173,\n 'enchanted book': 174,\n 'enchanting table': 175,\n 'end stone bricks': 176,\n 'end crystal': 177,\n 'end portal frame': 178,\n 'end rod': 179,\n 'end stone': 180,\n 'ender chest': 181,\n 'eye of ender': 182,\n 'ender pearl': 183,\n \"bottle o'enchanting\": 184,\n 'farmland': 185,\n 'feather': 186,\n 'oak fence': 187,\n 'oak fence gate': 188,\n 'fermented spider eye': 189,\n 'map (filled)': 190,\n 'fire charge': 191,\n 'firework star': 192,\n 'firework rocket': 193,\n 'raw fish': 194,\n 'raw salmon': 195,\n 'tropical fish (clownfish)': 196,\n 'pufferfish': 197,\n 'fishing rod': 198,\n 'flint': 199,\n 'flint and steel': 200,\n 'flower pot': 201,\n 'furnace': 202,\n 'minecart with furnace': 203,\n 'ghast tear': 204,\n 'glass': 205,\n 'glass bottle': 206,\n 'glass pane': 207,\n 'glowstone': 208,\n 'glowstone dust': 209,\n 'block of gold': 210,\n 'gold ingot': 211,\n 'gold nugget': 212,\n 'gold ore': 213,\n 'golden apple': 214,\n 'enchanted golden apple': 215,\n 'golden axe': 216,\n 'golden boots': 217,\n 'golden carrot': 218,\n 'golden chestplate': 219,\n 'golden helmet': 220,\n 'golden hoe': 221,\n 'gold horse armor': 222,\n 'golden leggings': 223,\n 'golden pickaxe': 224,\n 'powered rails': 225,\n 'golden shovel': 226,\n 'golden sword': 227,\n 'grass block': 228,\n 'dirt path': 229,\n 'gravel': 230,\n 'gray shulker box': 231,\n 'green shulker box': 232,\n 'gunpowder': 233,\n 'terracotta': 234,\n 'hay bale': 235,\n 'heavy weighted pressure plate': 236,\n 'hopper': 237,\n 'minecart with hopper': 238,\n 'ice': 239,\n 'iron axe': 240,\n 'iron bars': 241,\n 'block of iron': 242,\n 'iron boots': 243,\n 'iron chestplate': 244,\n 'iron door': 245,\n 'iron helmet': 246,\n 'iron hoe': 247,\n 'iron horse armor': 248,\n 'iron ingot': 249,\n 'iron leggings': 250,\n 'iron nugget': 251,\n 'iron ore': 252,\n 'iron pickaxe': 253,\n 'iron shovel': 254,\n 'iron sword': 255,\n 'iron trapdoor': 256,\n 'item frame': 257,\n 'jukebox': 258,\n 'jungle boat': 259,\n 'jungle door': 260,\n 'jungle fence': 261,\n 'jungle fence gate': 262,\n 'jungle stairs': 263,\n 'ladder': 264,\n 'lapis lazuli block': 265,\n 'lapis lazuli ore': 266,\n 'lava': 267,\n 'lava bucket': 268,\n 'lead': 269,\n 'leather': 270,\n 'leather boots': 271,\n 'leather tunic': 272,\n 'leather cap': 273,\n 'leather pants': 274,\n 'oak leaves': 275,\n 'spruce leaves': 276,\n 'birch leaves': 277,\n 'jungle leaves': 278,\n 'acacia leaves': 279,\n 'dark oak leaves': 280,\n 'lever': 281,\n 'light blue shulker box': 282,\n 'light weighted pressure plate': 283,\n 'lime shulker box': 284,\n 'lingering potion of fire resistance (0:45)': 285,\n 'lingering potion of fire resistance (2:00)': 286,\n 'lingering potion of harming (instant damage ii)': 287,\n 'lingering potion of harming (instant damage)': 288,\n 'lingering potion of healing (instant health ii)': 289,\n 'lingering potion of healing (instant health)': 290,\n 'lingering potion of invisibility (0:45)': 291,\n 'lingering potion of invisibility (2:00)': 292,\n 'lingering potion of leaping (0:22 - jump boost ii)': 293,\n 'lingering potion of leaping (0:45 - jump boost)': 294,\n 'lingering potion of leaping (2:00 - jump boost)': 295,\n 'lingering potion of luck (1:15)': 296,\n 'lingering potion of night vision (0:45)': 297,\n 'lingering potion of night vision (2:00)': 298,\n 'lingering potion of poison (0:05 - poison ii)': 299,\n 'lingering potion of poison (0:11)': 300,\n 'lingering potion of poison (0:22)': 301,\n 'lingering potion of regeneration (0:05 - regeneration ii)': 302,\n 'lingering potion of regeneration (0:11)': 303,\n 'lingering potion of regeneration (0:22)': 304,\n 'lingering potion of slowness (0:22)': 305,\n 'lingering potion of slowness (1:00)': 306,\n 'lingering potion of strength (0:22 - strength ii)': 307,\n 'lingering potion of strength (0:45)': 308,\n 'lingering potion of strength (2:00)': 309,\n 'lingering potion of swiftness (0:22 - speed ii)': 310,\n 'lingering potion of swiftness (0:45 - speed)': 311,\n 'lingering potion of swiftness (2:00 - speed)': 312,\n 'lingering potion of water breathing (0:45)': 313,\n 'lingering potion of water breathing (2:00)': 314,\n 'lingering potion of weakness (0:22)': 315,\n 'lingering potion of weakness (1:00)': 316,\n \"jack o'lantern\": 317,\n 'oak log': 318,\n 'spruce log': 319,\n 'birch log': 320,\n 'jungle log': 321,\n 'acacia log': 322,\n 'dark oak log': 323,\n 'magenta shulker box': 324,\n 'magma block': 325,\n 'magma cream': 326,\n 'map': 327,\n 'melon slice': 328,\n 'block of melon': 329,\n 'melon seeds': 330,\n 'milk bucket': 331,\n 'minecart': 332,\n 'monster spawner': 333,\n 'infested stone': 334,\n 'infested cobblestone': 335,\n 'infested stone bricks': 336,\n 'infested mossy stone bricks': 337,\n 'infested cracked stone bricks': 338,\n 'infested chiseled stone bricks': 339,\n 'mossy cobblestone': 340,\n 'mushroom stew': 341,\n 'raw mutton': 342,\n 'mycelium': 343,\n 'name tag': 344,\n 'block of nether bricks': 345,\n 'nether brick fence': 346,\n 'nether brick stairs': 347,\n 'nether star': 348,\n 'nether wart': 349,\n 'nether wart block': 350,\n 'nether brick': 351,\n 'netherrack': 352,\n 'note block': 353,\n 'oak stairs': 354,\n 'observer': 355,\n 'obsidian': 356,\n 'orange shulker box': 357,\n 'packed ice': 358,\n 'painting': 359,\n 'paper': 360,\n 'pink shulker box': 361,\n 'piston': 362,\n 'oak planks': 363,\n 'spruce planks': 364,\n 'birch planks': 365,\n 'jungle planks': 366,\n 'acacia planks': 367,\n 'dark oak planks': 368,\n 'poisonous potato': 369,\n 'raw porkchop': 370,\n 'potato': 371,\n 'potion of fire resistance (3:00)': 372,\n 'potion of fire resistance (8:00)': 373,\n 'potion of harming (instant damage ii)': 374,\n 'potion of harming (instant damage)': 375,\n 'potion of healing (instant health ii)': 376,\n 'potion of healing (instant health)': 377,\n 'potion of invisibility (3:00)': 378,\n 'potion of invisibility (8:00)': 379,\n 'potion of leaping (1:30 - jump boost ii)': 380,\n 'potion of leaping (3:00 - jump boost)': 381,\n 'potion of leaping (8:00 - jump boost)': 382,\n 'potion of luck (5:00)': 383,\n 'potion of night vision (3:00)': 384,\n 'potion of night vision (8:00)': 385,\n 'potion of poison (0:22 - poison ii)': 386,\n 'potion of poison (0:45)': 387,\n 'potion of poison (2:00)': 388,\n 'potion of regeneration (0:22 - regeneration ii)': 389,\n 'potion of regeneration (0:45)': 390,\n 'potion of regeneration (1:30)': 391,\n 'potion of slowness (1:30)': 392,\n 'potion of slowness (4:00)': 393,\n 'potion of strength (1:30 - strength ii)': 394,\n 'potion of strength (3:00)': 395,\n 'potion of strength (8:00)': 396,\n 'potion of swiftness (1:30 - speed ii)': 397,\n 'potion of swiftness (3:00 - speed)': 398,\n 'potion of swiftness (8:00 - speed)': 399,\n 'potion of water breathing (3:00)': 400,\n 'potion of water breathing (8:00)': 401,\n 'potion of weakness (1:30)': 402,\n 'potion of weakness (4:00)': 403,\n 'water bottle': 404,\n 'prismarine': 405,\n 'prismarine bricks': 406,\n 'dark prismarine': 407,\n 'prismarine crystals': 408,\n 'prismarine shard': 409,\n 'pumpkin': 410,\n 'pumpkin pie': 411,\n 'pumpkin seeds': 412,\n 'purple shulker box': 413,\n 'purpur block': 414,\n 'purpur pillar': 415,\n 'purpur slab': 416,\n 'purpur stairs': 417,\n 'nether quartz': 418,\n 'block of quartz': 419,\n 'chiseled quartz block': 420,\n 'quartz pillar': 421,\n 'nether quartz ore': 422,\n 'quartz stairs': 423,\n 'raw rabbit': 424,\n \"rabbit's foot\": 425,\n 'rabbit hide': 426,\n 'rabbit stew': 427,\n 'rails': 428,\n 'music disc (c418 - 11)': 429,\n 'music disc (c418 - 13)': 430,\n 'music disc (c418 - blocks)': 431,\n 'music disc (c418 - cat)': 432,\n 'music disc (c418 - chirp)': 433,\n 'music disc (c418 - far)': 434,\n 'music disc (c418 - mall)': 435,\n 'music disc (c418 - mellohi)': 436,\n 'music disc (c418 - stal)': 437,\n 'music disc (c418 - strad)': 438,\n 'music disc (c418 - wait)': 439,\n 'music disc (c418 - ward)': 440,\n 'poppy': 441,\n 'blue orchid': 442,\n 'allium': 443,\n 'azure bluet': 444,\n 'red tulip': 445,\n 'orange tulip': 446,\n 'white tulip': 447,\n 'pink tulip': 448,\n 'oxeye daisy': 449,\n 'red mushroom': 450,\n 'red mushroom block': 451,\n 'red nether brick': 452,\n 'red sandstone': 453,\n 'chiseled red sandstone': 454,\n 'smooth red sandstone': 455,\n 'red sandstone stairs': 456,\n 'red shulker box': 457,\n 'redstone dust': 458,\n 'block of redstone': 459,\n 'redstone lamp': 460,\n 'redstone ore': 461,\n 'redstone torch': 462,\n 'sugar canes': 463,\n 'redstone repeater': 464,\n 'repeating command block': 465,\n 'rotten flesh': 466,\n 'saddle': 467,\n 'sand': 468,\n 'red sand': 469,\n 'sandstone': 470,\n 'chiseled sandstone': 471,\n 'smooth sandstone': 472,\n 'sandstone stairs': 473,\n 'oak sapling': 474,\n 'spruce sapling': 475,\n 'birch sapling': 476,\n 'jungle sapling': 477,\n 'acacia sapling': 478,\n 'dark oak sapling': 479,\n 'sea lantern': 480,\n 'shears': 481,\n 'shield': 482,\n 'shulker shell': 483,\n 'oak sign': 484,\n 'light gray shulker box': 485,\n 'skeleton skull': 486,\n 'wither skeleton skull': 487,\n 'zombie head': 488,\n 'player head': 489,\n 'creeper head': 490,\n 'dragon head': 491,\n 'slime block': 492,\n 'slimeball': 493,\n 'snow block': 494,\n 'snow': 495,\n 'snowball': 496,\n 'soul sand': 497,\n 'bat spawn egg': 498,\n 'blaze spawn egg': 499,\n 'cave spider spawn egg': 500,\n 'chicken spawn egg': 501,\n 'cow spawn egg': 502,\n 'creeper spawn egg': 503,\n 'donkey spawn egg': 504,\n 'elder guardian spawn egg': 505,\n 'enderman spawn egg': 506,\n 'endermite spawn egg': 507,\n 'evoker spawn egg': 508,\n 'ghast spawn egg': 509,\n 'guardian spawn egg': 510,\n 'horse spawn egg': 511,\n 'husk spawn egg': 512,\n 'llama spawn egg': 513,\n 'magma cube spawn egg': 514,\n 'mooshroom spawn egg': 515,\n 'mule spawn egg': 516,\n 'ocelot spawn egg': 517,\n 'pig spawn egg': 518,\n 'polar bear spawn egg': 519,\n 'rabbit spawn egg': 520,\n 'sheep spawn egg': 521,\n 'shulker spawn egg': 522,\n 'silverfish spawn egg': 523,\n 'skeleton horse spawn egg': 524,\n 'skeleton spawn egg': 525,\n 'slime spawn egg': 526,\n 'spider spawn egg': 527,\n 'squid spawn egg': 528,\n 'stray spawn egg': 529,\n 'vex spawn egg': 530,\n 'villager spawn egg': 531,\n 'vindicator spawn egg': 532,\n 'witch spawn egg': 533,\n 'wither skeleton spawn egg': 534,\n 'wolf spawn egg': 535,\n 'zombie horse spawn egg': 536,\n 'zombie spawn egg': 537,\n 'zombie villager spawn egg': 538,\n 'zombified piglin spawn egg': 539,\n 'glistering melon slice': 540,\n 'spectral arrow': 541,\n 'spider eye': 542,\n 'splash potion of fire resistance (3:00/2:15)': 543,\n 'splash potion of fire resistance (6:00)': 544,\n 'splash potion of harming (instant damage ii)': 545,\n 'splash potion of harming (instant damage)': 546,\n 'splash potion of healing (instant health ii)': 547,\n 'splash potion of healing (instant health)': 548,\n 'splash potion of invisibility (3:00/2:15)': 549,\n 'splash potion of invisibility (8:00/6:00)': 550,\n 'splash potion of leaping (1:30/1:07 - jump boost ii)': 551,\n 'splash potion of leaping (3:00/2:15 - jump boost)': 552,\n 'splash potion of leaping (8:00/6:00 - jump boost)': 553,\n 'splash potion of luck (5:00)': 554,\n 'splash potion of night vision (3:00/2:15)': 555,\n 'splash potion of night vision (8:00/6:00)': 556,\n 'splash potion of poison (0:22/0:16 - poison ii)': 557,\n 'splash potion of poison (0:45/0:33)': 558,\n 'splash potion of poison (1:30)': 559,\n 'splash potion of regeneration (0:22/0:16 - regeneration ii)': 560,\n 'splash potion of regeneration (0:45/0:33)': 561,\n 'splash potion of regeneration (1:30)': 562,\n 'splash potion of slowness (1:30/1:07)': 563,\n 'splash potion of slowness (4:00/3:00)': 564,\n 'splash potion of strength (1:30/1:07 - strength ii)': 565,\n 'splash potion of strength (3:00/2:15)': 566,\n 'splash potion of strength (8:00/6:00)': 567,\n 'splash potion of swiftness (1:30/1:07 - speed ii)': 568,\n 'splash potion of swiftness (3:00/2:15 - speed)': 569,\n 'splash potion of swiftness (8:00/6:00 - speed)': 570,\n 'splash potion of water breathing (3:00/2:15)': 571,\n 'splash potion of water breathing (8:00/6:00)': 572,\n 'splash potion of weakness (1:30/1:07)': 573,\n 'splash potion of weakness (4:00/3:00)': 574,\n 'sponge': 575,\n 'wet sponge': 576,\n 'spruce boat': 577,\n 'spruce door': 578,\n 'spruce fence': 579,\n 'spruce fence gate': 580,\n 'spruce stairs': 581,\n 'white stained glass': 582,\n 'orange stained glass': 583,\n 'magenta stained glass': 584,\n 'light blue stained glass': 585,\n 'yellow stained glass': 586,\n 'lime stained glass': 587,\n 'pink stained glass': 588,\n 'gray stained glass': 589,\n 'light gray stained glass': 590,\n 'cyan stained glass': 591,\n 'purple stained glass': 592,\n 'blue stained glass': 593,\n 'brown stained glass': 594,\n 'green stained glass': 595,\n 'red stained glass': 596,\n 'black stained glass': 597,\n 'white stained glass pane': 598,\n 'orange stained glass pane': 599,\n 'magenta stained glass pane': 600,\n 'light blue stained glass pane': 601,\n 'yellow stained glass pane': 602,\n 'lime stained glass pane': 603,\n 'pink stained glass pane': 604,\n 'gray stained glass pane': 605,\n 'light gray stained glass pane': 606,\n 'cyan stained glass pane': 607,\n 'purple stained glass pane': 608,\n 'blue stained glass pane': 609,\n 'brown stained glass pane': 610,\n 'green stained glass pane': 611,\n 'red stained glass pane': 612,\n 'black stained glass pane': 613,\n 'white terracotta': 614,\n 'orange terracotta': 615,\n 'magenta terracotta': 616,\n 'light blue terracotta': 617,\n 'yellow terracotta': 618,\n 'lime terracotta': 619,\n 'pink terracotta': 620,\n 'gray terracotta': 621,\n 'light gray terracotta': 622,\n 'cyan terracotta': 623,\n 'purple terracotta': 624,\n 'blue terracotta': 625,\n 'brown terracotta': 626,\n 'green terracotta': 627,\n 'red terracotta': 628,\n 'black terracotta': 629,\n 'stick': 630,\n 'sticky piston': 631,\n 'stone': 632,\n 'granite': 633,\n 'polished granite': 634,\n 'diorite': 635,\n 'polished diorite': 636,\n 'andesite': 637,\n 'polished andesite': 638,\n 'stone axe': 639,\n 'stone brick stairs': 640,\n 'stone button': 641,\n 'stone hoe': 642,\n 'stone pickaxe': 643,\n 'stone pressure plate': 644,\n 'stone shovel': 645,\n 'stone slab': 646,\n 'sandstone slab': 647,\n 'cobblestone slab': 648,\n 'brick slab': 649,\n 'stone brick slab': 650,\n 'nether brick slab': 651,\n 'quartz slab': 652,\n 'red sandstone slab': 653,\n 'cobblestone stairs': 654,\n 'stone sword': 655,\n 'stone bricks': 656,\n 'mossy stone bricks': 657,\n 'cracked stone bricks': 658,\n 'chiseled stone bricks': 659,\n 'string': 660,\n 'structure block': 661,\n 'structure void': 662,\n 'sugar': 663,\n 'grass': 664,\n 'fern': 665,\n 'arrow of fire resistance (0:22)': 666,\n 'arrow of fire resistance (1:00)': 667,\n 'arrow of harming (instant damage ii)': 668,\n 'arrow of harming (instant damage)': 669,\n 'arrow of healing (instant health ii)': 670,\n 'arrow of healing (instant health)': 671,\n 'arrow of invisibility (0:22)': 672,\n 'arrow of invisibility (1:00)': 673,\n 'arrow of leaping (0:11 - jump boost ii)': 674,\n 'arrow of leaping (0:22 - jump boost)': 675,\n 'arrow of leaping (1:00 - jump boost)': 676,\n 'arrow of luck (0:37)': 677,\n 'arrow of night vision (0:22)': 678,\n 'arrow of night vision (1:00)': 679,\n 'arrow of poison (0:02 - poison ii)': 680,\n 'arrow of poison (0:05)': 681,\n 'arrow of poison (0:11)': 682,\n 'arrow of regeneration (0:02 - regeneration ii)': 683,\n 'arrow of regeneration (0:05)': 684,\n 'arrow of regeneration (0:11)': 685,\n 'arrow of slowness (0:11)': 686,\n 'arrow of slowness (0:30)': 687,\n 'arrow of strength (0:11 - strength ii)': 688,\n 'arrow of strength (0:22)': 689,\n 'arrow of strength (1:00)': 690,\n 'arrow of swiftness (0:11 - speed ii)': 691,\n 'arrow of swiftness (0:22 - speed)': 692,\n 'arrow of swiftness (1:00 - speed)': 693,\n 'arrow of water breathing (0:22)': 694,\n 'arrow of water breathing (1:00)': 695,\n 'arrow of weakness (0:11)': 696,\n 'arrow of weakness (0:30)': 697,\n 'tnt': 698,\n 'minecart with tnt': 699,\n 'torch': 700,\n 'totem of undying': 701,\n 'oak trapdoor': 702,\n 'trapped chest': 703,\n 'tripwire hook': 704,\n 'vines': 705,\n 'water': 706,\n 'water bucket': 707,\n 'lily pad': 708,\n 'cobweb': 709,\n 'wheat': 710,\n 'seeds': 711,\n 'white shulker box': 712,\n 'wooden axe': 713,\n 'oak button': 714,\n 'oak door': 715,\n 'wooden hoe': 716,\n 'wooden pickaxe': 717,\n 'oak pressure plate': 718,\n 'wooden shovel': 719,\n 'oak slab': 720,\n 'spruce slab': 721,\n 'birch slab': 722,\n 'jungle slab': 723,\n 'acacia slab': 724,\n 'dark oak slab': 725,\n 'wooden sword': 726,\n 'white wool': 727,\n 'orange wool': 728,\n 'magenta wool': 729,\n 'light blue wool': 730,\n 'yellow wool': 731,\n 'lime wool': 732,\n 'pink wool': 733,\n 'gray wool': 734,\n 'light gray wool': 735,\n 'cyan wool': 736,\n 'purple wool': 737,\n 'blue wool': 738,\n 'brown wool': 739,\n 'green wool': 740,\n 'red wool': 741,\n 'black wool': 742,\n 'book and quill': 743,\n 'written book': 744,\n 'dandelion': 745,\n 'yellow shulker box': 746}"
     },
     "execution_count": 9,
     "metadata": {},
     "output_type": "execute_result"
    }
   ],
   "source": [
    "import csv\n",
    "\n",
    "def load_item_mapping_from_csv(file_path):\n",
    "    item_mapping = {}\n",
    "    with open(file_path, 'r') as f:\n",
    "        reader = csv.reader(f)\n",
    "        next(reader)  # Skip the header row if it exists\n",
    "        for row in reader:\n",
    "            item_name, _, item_id, item_id_2 = row  # Change this line to read the first and third columns\n",
    "            if item_id is None or item_id == '':\n",
    "                item_id = 10000 + len(item_mapping)\n",
    "            item_id = int(item_id)\n",
    "            if item_id_2 is not None:\n",
    "                item_id = item_id + 10000 * int(item_id_2)\n",
    "\n",
    "            item_mapping[item_name] = item_id\n",
    "    return item_mapping\n",
    "\n",
    "\n",
    "def minimizeIds(item_mapping):\n",
    "    # minimizing IDs by replacing each items id with its index in the list\n",
    "    # this is done to reduce the size of the observation space\n",
    "    minimized = {}\n",
    "    for key, value in item_mapping.items():\n",
    "        if key not in minimized:\n",
    "            minimized[key] = len(minimized)\n",
    "    return minimized\n",
    "\n",
    "# ensure all numeric ids are unique\n",
    "def check_item_mapping(item_mapping):\n",
    "    numeric_ids = [item_id for item_id in item_mapping.values() if isinstance(item_id, int)]\n",
    "    assert len(numeric_ids) == len(set(numeric_ids))\n",
    "\n",
    "string_to_index_mapping = load_item_mapping_from_csv(\"minecraft_items.csv\")\n",
    "\n",
    "string_to_index_mapping = minimizeIds(string_to_index_mapping)\n",
    "\n",
    "check_item_mapping(string_to_index_mapping)\n",
    "\n",
    "string_to_index_mapping"
   ],
   "metadata": {
    "collapsed": false
   }
  },
  {
   "cell_type": "code",
   "execution_count": 10,
   "outputs": [],
   "source": [
    "import gymnasium as gym\n",
    "\n",
    "def preprocess_observation(obs_dict, space_dict = obs_space, string_to_index_mapping=string_to_index_mapping):\n",
    "    obs_list = []\n",
    "    for key, space in space_dict.items():\n",
    "        if isinstance(space, gym.spaces.Dict):\n",
    "            obs_list.extend(preprocess_observation(obs_dict[key], space.spaces, string_to_index_mapping))\n",
    "        elif isinstance(space, (gym.spaces.Box, gym.spaces.MultiDiscrete)):\n",
    "            obs_list.extend(obs_dict[key].flatten())\n",
    "        elif isinstance(space, gym.spaces.Discrete):\n",
    "            obs_list.append(obs_dict[key])\n",
    "        elif isinstance(space, (int, float, bool, np.number)):\n",
    "            obs_list.append(space)\n",
    "        elif isinstance(space, str):\n",
    "            if key == 'equipment':\n",
    "                equipment_items = space.split(',')\n",
    "                equipment_ids = [string_to_index_mapping.get(item, -1) for item in equipment_items]\n",
    "                obs_list.extend(equipment_ids)\n",
    "            else:\n",
    "                obs_list.append(string_to_index_mapping.get(space, -1))  # Use -1 for unknown strings\n",
    "    return np.array(obs_list, dtype=np.float32)\n",
    "\n"
   ],
   "metadata": {
    "collapsed": false
   }
  },
  {
   "cell_type": "code",
   "execution_count": 11,
   "outputs": [],
   "source": [
    "\n",
    "def mask_multidiscrete_probs(masks, multidiscrete_tensor):\n",
    "    # detach all tensors from the graph\n",
    "    multidiscrete_tensor = [t.detach().cpu() for t in multidiscrete_tensor]\n",
    "    # Create a list of zero-filled tensors with the same shapes as multidiscrete_tensor\n",
    "    result = [torch.zeros_like(t) for t in multidiscrete_tensor]\n",
    "\n",
    "    for i, key in enumerate(masks.keys()):\n",
    "        mask = masks[key]\n",
    "        for j, is_enabled in enumerate(mask) :\n",
    "            if is_enabled and i < len(multidiscrete_tensor) and j < len(multidiscrete_tensor[i]):\n",
    "                result[i][j] = multidiscrete_tensor[i][j]\n",
    "\n",
    "    return result\n",
    "\n"
   ],
   "metadata": {
    "collapsed": false
   }
  },
  {
   "cell_type": "markdown",
   "source": [],
   "metadata": {
    "collapsed": false
   }
  },
  {
   "cell_type": "code",
   "execution_count": 12,
   "outputs": [],
   "source": [
    "class ActorCritic(nn.Module):\n",
    "    def __init__(self, state_dim, action_dims):\n",
    "            super(ActorCritic, self).__init__()\n",
    "            self.device = torch.device(\"cuda\" if torch.cuda.is_available() else \"cpu\")\n",
    "            self.actor_branches = nn.ModuleList().to(self.device)\n",
    "            for action_dim in action_dims:\n",
    "                self.actor_branches.append(nn.Sequential(\n",
    "                    nn.Linear(state_dim, 128),\n",
    "                    nn.ReLU(),\n",
    "                    nn.Linear(128, action_dim),\n",
    "                    nn.Softmax(dim=-1)\n",
    "                ).to(self.device))\n",
    "\n",
    "            self.critic = nn.Sequential(\n",
    "                nn.Linear(state_dim, 128),\n",
    "                nn.ReLU(),\n",
    "                nn.Linear(128, 1)\n",
    "            ).to(self.device)\n",
    "\n",
    "            self.optimizer = optim.Adam(self.parameters(), lr=0.001)\n",
    "\n",
    "\n",
    "    def forward(self, state):\n",
    "            action_probs = [branch(state) for branch in self.actor_branches]\n",
    "            value = self.critic(state)\n",
    "            return action_probs, value\n",
    "\n",
    "    def choose_action(self, state, masks):\n",
    "        state = torch.tensor([state], dtype=torch.float).to(self.device)\n",
    "        dist, _ = self.forward(state)\n",
    "        action_probs = dist\n",
    "\n",
    "        # Call mask_multidiscrete_probs to mask the action_probs\n",
    "        masked_action_probs = mask_multidiscrete_probs(masks, action_probs)\n",
    "\n",
    "        # Choose actions based on the masked action probabilities\n",
    "        actions = [np.argmax(masked_action_probs[i]) for i in range(len(masked_action_probs))]\n",
    "\n",
    "        return actions\n",
    "\n",
    "\n",
    "\n",
    "    def train(self, transitions, gamma=0.99, critic_coeff=0.5, entropy_coeff=0.01):\n",
    "        states, actions_list, rewards, next_states, masks, dones = zip(*transitions)\n",
    "        actions = [torch.tensor(action, dtype=torch.long).unsqueeze(1).to(self.device) for action in actions_list]  # Add an extra dimension\n",
    "\n",
    "        # Create tensors for states and next_states\n",
    "        states = [torch.tensor(state, dtype=torch.float).to(self.device) for state in states if state.size > 0]\n",
    "        next_states = [torch.tensor(next_state, dtype=torch.float).to(self.device) for next_state in next_states if next_state.size > 0]\n",
    "\n",
    "        rewards = torch.tensor(rewards, dtype=torch.float).to(self.device)\n",
    "        dones = torch.tensor(dones, dtype=torch.float).to(self.device)\n",
    "\n",
    "        if len(states) == 0 or len(next_states) == 0:\n",
    "            return\n",
    "\n",
    "        _, next_values = self.forward(torch.stack(next_states))\n",
    "        next_values = next_values.squeeze().detach()\n",
    "        target_values = rewards + gamma * next_values * (1 - dones)\n",
    "\n",
    "        action_probs, values = self.forward(torch.stack(states))\n",
    "        action_log_probs = [torch.log(action_probs[i].gather(1, actions[i])).squeeze() for i in range(len(action_probs))]\n",
    "        entropy = sum([(-action_probs[i] * torch.log(action_probs[i] + 1e-9)).sum(dim=1).mean() for i in range(len(action_probs))])\n",
    "\n",
    "        action_losses = [-torch.sum(action_log_probs[i] * (target_values - values.squeeze().detach())) for i in range(len(action_log_probs))]\n",
    "        value_losses = 0.5 * (target_values - values.squeeze()).pow(2)\n",
    "        total_loss = sum(action_losses) + critic_coeff * value_losses.mean() - entropy_coeff * entropy\n",
    "\n",
    "        self.optimizer.zero_grad()\n",
    "        total_loss.backward()\n",
    "        self.optimizer.step()\n",
    "\n",
    "\n",
    "\n",
    "\n",
    "\n",
    "\n"
   ],
   "metadata": {
    "collapsed": false
   }
  },
  {
   "cell_type": "code",
   "execution_count": 13,
   "outputs": [
    {
     "name": "stderr",
     "output_type": "stream",
     "text": [
      "/home/sasha/miniconda3/envs/minerl/lib/python3.9/site-packages/torch/nn/init.py:405: UserWarning: Initializing zero-element tensors is a no-op\n",
      "  warnings.warn(\"Initializing zero-element tensors is a no-op\")\n"
     ]
    }
   ],
   "source": [
    "input_shape = preprocess_observation(env.observation_space).shape[0]\n",
    "num_actions = env.action_space.nvec.tolist()\n",
    "agent = ActorCritic(input_shape, num_actions)\n"
   ],
   "metadata": {
    "collapsed": false
   }
  },
  {
   "cell_type": "code",
   "execution_count": null,
   "outputs": [
    {
     "data": {
      "text/plain": "  0%|          | 0/100000 [00:00<?, ?it/s]",
      "application/vnd.jupyter.widget-view+json": {
       "version_major": 2,
       "version_minor": 0,
       "model_id": "c0718cc55b234498a55967ad7def4b88"
      }
     },
     "metadata": {},
     "output_type": "display_data"
    },
    {
     "name": "stderr",
     "output_type": "stream",
     "text": [
      "[INFO:minedojo.tasks] Loaded 1572 Programmatic tasks, 1558 Creative tasks, and 1 special task: \"Playthrough\". Totally 3131 tasks loaded.\n",
      "/home/sasha/miniconda3/envs/minerl/lib/python3.9/site-packages/torch/nn/modules/linear.py:114: UserWarning: An output with one or more elements was resized since it had shape [1, 128], which does not match the required output shape [128]. This behavior is deprecated, and in a future PyTorch release outputs will not be resized unless they have zero elements. You can explicitly reuse an out tensor t by resizing it, inplace, to zero elements with t.resize_(0). (Triggered internally at ../aten/src/ATen/native/Resize.cpp:26.)\n",
      "  return F.linear(input, self.weight, self.bias)\n"
     ]
    }
   ],
   "source": [
    "# increase batch size when we have a better model\n",
    "batch_size = 10\n",
    "num_epochs = 10\n",
    "max_episode_steps = 1000\n",
    "\n",
    "with tqdm(total=num_epochs*batch_size*max_episode_steps) as pbar:\n",
    "    for epoch in range(num_epochs):\n",
    "        episode_rewards = []\n",
    "\n",
    "        transitions = []\n",
    "\n",
    "        for episode in range(batch_size):\n",
    "            obs = env.reset()\n",
    "            state = preprocess_observation(obs)\n",
    "            done = False\n",
    "            episode_reward = 0\n",
    "\n",
    "            for step in range(max_episode_steps):\n",
    "                masks = obs[\"masks\"]\n",
    "                action = agent.choose_action(state, masks)\n",
    "                obs, reward, done, _ = env.step(action)\n",
    "                base_reward = reward\n",
    "                # entities, distances = obs[\"rays\"][\"entity_name\"], obs[\"rays\"][\"entity_distance\"]\n",
    "                # sheep_idx = np.where(entities == \"sheep\")[0]\n",
    "                #\n",
    "                # if len(sheep_idx) > 0:\n",
    "                #     sheep_distance = np.min(distances[sheep_idx])\n",
    "                #     #encourage being closer to sheep\n",
    "                #     if sheep_distance < 8:\n",
    "                #         base_reward += 1 / (sheep_distance + 1)\n",
    "\n",
    "                next_state = preprocess_observation(obs)\n",
    "\n",
    "                episode_reward += base_reward\n",
    "                transitions.append((state, action, reward, next_state, masks, done))\n",
    "\n",
    "                if done:\n",
    "                    pbar.update(max_episode_steps - step)\n",
    "                    break\n",
    "\n",
    "                state = next_state\n",
    "                pbar.update(1)\n",
    "\n",
    "            episode_rewards.append(episode_reward)\n",
    "\n",
    "        # Train the agent using collected transitions\n",
    "        agent.train(transitions)\n",
    "\n",
    "        mean_episode_reward = np.mean(episode_rewards)\n",
    "        print(f\"Epoch: {epoch+1}/{num_epochs}, Mean Reward: {mean_episode_reward:.2f}\")\n",
    "\n",
    "# save the model\n",
    "torch.save(agent.state_dict(), 'model.pt')\n",
    "\n"
   ],
   "metadata": {
    "collapsed": false,
    "pycharm": {
     "is_executing": true
    }
   }
  },
  {
   "cell_type": "code",
   "execution_count": null,
   "outputs": [],
   "source": [],
   "metadata": {
    "collapsed": false,
    "pycharm": {
     "is_executing": true
    }
   }
  },
  {
   "cell_type": "code",
   "execution_count": null,
   "outputs": [],
   "source": [],
   "metadata": {
    "collapsed": false,
    "pycharm": {
     "is_executing": true
    }
   }
  }
 ],
 "metadata": {
  "kernelspec": {
   "display_name": "Python 3",
   "language": "python",
   "name": "python3"
  },
  "language_info": {
   "codemirror_mode": {
    "name": "ipython",
    "version": 2
   },
   "file_extension": ".py",
   "mimetype": "text/x-python",
   "name": "python",
   "nbconvert_exporter": "python",
   "pygments_lexer": "ipython2",
   "version": "2.7.6"
  }
 },
 "nbformat": 4,
 "nbformat_minor": 0
}
