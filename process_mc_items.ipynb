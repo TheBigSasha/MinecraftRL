{
 "cells": [
  {
   "cell_type": "code",
   "execution_count": 3,
   "metadata": {
    "collapsed": true
   },
   "outputs": [
    {
     "name": "stdout",
     "output_type": "stream",
     "text": [
      "Requirement already satisfied: beautifulsoup4 in /home/sasha/miniconda3/envs/minerl/lib/python3.9/site-packages (4.11.2)\r\n",
      "Requirement already satisfied: requests in /home/sasha/miniconda3/envs/minerl/lib/python3.9/site-packages (2.28.1)\r\n",
      "Requirement already satisfied: soupsieve>1.2 in /home/sasha/miniconda3/envs/minerl/lib/python3.9/site-packages (from beautifulsoup4) (2.4)\r\n",
      "Requirement already satisfied: urllib3<1.27,>=1.21.1 in /home/sasha/miniconda3/envs/minerl/lib/python3.9/site-packages (from requests) (1.26.13)\r\n",
      "Requirement already satisfied: charset-normalizer<3,>=2 in /home/sasha/miniconda3/envs/minerl/lib/python3.9/site-packages (from requests) (2.1.1)\r\n",
      "Requirement already satisfied: certifi>=2017.4.17 in /home/sasha/miniconda3/envs/minerl/lib/python3.9/site-packages (from requests) (2022.12.7)\r\n",
      "Requirement already satisfied: idna<4,>=2.5 in /home/sasha/miniconda3/envs/minerl/lib/python3.9/site-packages (from requests) (3.4)\r\n",
      "Note: you may need to restart the kernel to use updated packages.\n"
     ]
    }
   ],
   "source": [
    "%pip install beautifulsoup4 requests"
   ]
  },
  {
   "cell_type": "code",
   "execution_count": 4,
   "outputs": [
    {
     "name": "stdout",
     "output_type": "stream",
     "text": [
      "CSV file has been created.\n"
     ]
    }
   ],
   "source": [
    "import csv\n",
    "import requests\n",
    "from bs4 import BeautifulSoup\n",
    "\n",
    "# Replace this with the URL of the website containing the table\n",
    "url = \"https://www.digminecraft.com/lists/item_id_list_pc_1_11.php\"\n",
    "\n",
    "response = requests.get(url)\n",
    "html = response.text\n",
    "\n",
    "soup = BeautifulSoup(html, \"html.parser\")\n",
    "\n",
    "# Assuming the table you want to parse is the first one on the page\n",
    "table = soup.find(\"table\", {\"id\": \"minecraft_items\"})\n",
    "\n",
    "if table:\n",
    "    rows = table.find_all(\"tr\")\n",
    "else:\n",
    "    print(\"No table found on the page.\")\n",
    "    exit()\n",
    "\n",
    "csv_data = []\n",
    "\n",
    "for row in rows:\n",
    "    columns = row.find_all(\"td\")\n",
    "    csv_row = []\n",
    "\n",
    "    if not columns:\n",
    "        continue\n",
    "\n",
    "\n",
    "    # Get the image alt text\n",
    "    img = columns[0].find(\"img\")\n",
    "    if img:\n",
    "        csv_row.append(img[\"alt\"])\n",
    "    else:\n",
    "        csv_row.append(\"\")\n",
    "\n",
    "    # Get the link text\n",
    "    a = columns[1].find(\"a\")\n",
    "    if a:\n",
    "        csv_row.append(a.text)\n",
    "    else:\n",
    "        csv_row.append(\"\")\n",
    "\n",
    "    # Get the remaining columns' text\n",
    "    for col in columns[2:]:\n",
    "        csv_row.append(col.text.strip())\n",
    "\n",
    "    csv_data.append(csv_row)\n",
    "\n",
    "# Write the data to a CSV file\n",
    "with open(\"minecraft_items.csv\", \"w\", newline=\"\") as csvfile:\n",
    "    csvwriter = csv.writer(csvfile)\n",
    "    for row in csv_data:\n",
    "        csvwriter.writerow(row)\n",
    "\n",
    "print(\"CSV file has been created.\")\n"
   ],
   "metadata": {
    "collapsed": false
   }
  }
 ],
 "metadata": {
  "kernelspec": {
   "display_name": "Python 3",
   "language": "python",
   "name": "python3"
  },
  "language_info": {
   "codemirror_mode": {
    "name": "ipython",
    "version": 2
   },
   "file_extension": ".py",
   "mimetype": "text/x-python",
   "name": "python",
   "nbconvert_exporter": "python",
   "pygments_lexer": "ipython2",
   "version": "2.7.6"
  }
 },
 "nbformat": 4,
 "nbformat_minor": 0
}
